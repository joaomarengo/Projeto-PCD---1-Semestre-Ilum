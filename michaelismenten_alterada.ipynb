{
 "cells": [
  {
   "cell_type": "code",
   "execution_count": null,
   "id": "38ed75dd",
   "metadata": {},
   "outputs": [],
   "source": [
    "import math\n",
    "\n",
    "pKa = 0\n",
    "pKb = 0\n",
    "Vmax_ref = 0\n",
    "Ea = 0\n",
    "R = 0\n",
    "T_ref = 0\n",
    "Km_ref = 0\n",
    "deltaH = 0\n",
    "\n",
    "\n",
    "def v0(S, T, pH):\n",
    "    term1 = 1 / (1 + 10**(pKa - pH) + 10**(pH - pKb))\n",
    "    exp1 = math.exp((-Ea / R) * (1/T - 1/T_ref))\n",
    "    exp2 = math.exp((deltaH / R) * (1/T - 1/T_ref))\n",
    "    \n",
    "    numerador = Vmax_ref * exp1 * S\n",
    "    denominador = Km_ref * exp2 + S\n",
    "    \n",
    "    return term1 * (numerador / denominador)"
   ]
  }
 ],
 "metadata": {
  "kernelspec": {
   "display_name": "Python 3",
   "language": "python",
   "name": "python3"
  },
  "language_info": {
   "codemirror_mode": {
    "name": "ipython",
    "version": 3
   },
   "file_extension": ".py",
   "mimetype": "text/x-python",
   "name": "python",
   "nbconvert_exporter": "python",
   "pygments_lexer": "ipython3",
   "version": "3.12.7"
  }
 },
 "nbformat": 4,
 "nbformat_minor": 5
}
