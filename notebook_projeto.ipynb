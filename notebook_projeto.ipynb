{
 "cells": [
  {
   "cell_type": "code",
   "execution_count": null,
   "id": "60daacda",
   "metadata": {
    "vscode": {
     "languageId": "plaintext"
    }
   },
   "outputs": [],
   "source": [
    "!pip install plotly dash numpy"
   ]
  },
  {
   "cell_type": "code",
   "execution_count": null,
   "id": "664604e8",
   "metadata": {
    "vscode": {
     "languageId": "plaintext"
    }
   },
   "outputs": [],
   "source": [
    "import plotly.graph_objects as go\n",
    "from dash import Dash, dcc, html, Input, Output\n",
    "import numpy as np\n",
    "import math"
   ]
  },
  {
   "cell_type": "code",
   "execution_count": null,
   "id": "63380d0b",
   "metadata": {
    "vscode": {
     "languageId": "plaintext"
    }
   },
   "outputs": [],
   "source": [
    "def velocidade_da_reacao(S, T, pH, pKa, pKb, Vmax_ref, Ea, T_ref, Km_ref, deltaH, T_opt, sigma):\n",
    "    T_K = T + 273.15\n",
    "    T_ref_K = T_ref + 273.15\n",
    "    T_opt_K = T_opt + 273.15\n",
    "\n",
    "    term1 = 1 / (1 + 10**(pKa - pH) + 10**(pH - pKb))\n",
    "    exp1 = math.exp((-Ea * 1000 / 8.314) * (1 / T_K - 1 / T_ref_K))\n",
    "    exp2 = math.exp((deltaH * 1000 / 8.314) * (1 / T_K - 1 / T_ref_K))\n",
    "    fator_f = math.exp(-((T_K - T_opt_K) / sigma)**2)\n",
    "\n",
    "    numerador = Vmax_ref * exp1 * fator_f * S\n",
    "    denominador = Km_ref * exp2 + S\n",
    "\n",
    "    return term1 * (numerador / denominador)"
   ]
  },
  {
   "cell_type": "code",
   "execution_count": null,
   "id": "7373bd10",
   "metadata": {
    "vscode": {
     "languageId": "plaintext"
    }
   },
   "outputs": [],
   "source": [
    "app = Dash(__name__)\n",
    "\n",
    "label_style = {\n",
    "    'color': '#333333',\n",
    "    'fontWeight': 'bold',\n",
    "    'fontSize': '14px',\n",
    "    'marginBottom': '6px',\n",
    "    'display': 'block'\n",
    "}\n",
    "\n",
    "input_style = {\n",
    "    'width': '100%',\n",
    "    'padding': '8px 12px',\n",
    "    'border': '1px solid #ccc',\n",
    "    'borderRadius': '6px',\n",
    "    'fontSize': '14px',\n",
    "    'fontWeight': '400',\n",
    "    'outline': 'none',\n",
    "    'boxShadow': 'none',\n",
    "    'transition': 'border-color 0.3s ease'\n",
    "}\n",
    "\n",
    "container_style = {\n",
    "    'maxWidth': '1100px',\n",
    "    'margin': '40px auto',\n",
    "    'padding': '30px',\n",
    "    'backgroundColor': '#f5f5f7',\n",
    "    'borderRadius': '12px',\n",
    "    'fontFamily': 'Trebuchet MS, sans-serif',\n",
    "    'color': '#1d1d1f',\n",
    "    'boxShadow': '0 4px 12px rgba(0,0,0,0.05)'\n",
    "}\n",
    "\n",
    "title_style = {\n",
    "    'textAlign': 'center',\n",
    "    'color': '#1d1d1f',\n",
    "    'marginBottom': '40px',\n",
    "    'fontWeight': '600',\n",
    "    'fontSize': '28px'\n",
    "}\n",
    "\n",
    "app.layout = html.Div([\n",
    "    html.H1(\"Simulação - Cinética Enzimática\", style=title_style),\n",
    "\n",
    "    html.Div([\n",
    "        html.Div([\n",
    "            html.Div([\n",
    "                html.Label(\"Concentração do Substrato (mol/L)\", style=label_style),\n",
    "                dcc.Input(id='input_s', type='number', value=10, step=0.1, style=input_style)\n",
    "            ], style={'marginBottom': '10px'}),\n",
    "            html.Div([\n",
    "                html.Label(\"Constante de Dissociação do Grupo Ácido (pKa)\", style=label_style),\n",
    "                dcc.Input(id='input_pka', type='number', value=6.5, step=0.1, style=input_style)\n",
    "            ], style={'marginBottom': '10px'}),\n",
    "            html.Div([\n",
    "                html.Label(\"Constante de Dissociação do Grupo Básico (pKb)\", style=label_style),\n",
    "                dcc.Input(id='input_pkb', type='number', value=8, step=0.1, style=input_style)\n",
    "            ], style={'marginBottom': '10px'}),\n",
    "            html.Div([\n",
    "                html.Label(\"Velocidade Máxima da Reação (mol/L.s)\", style=label_style),\n",
    "                dcc.Input(id='input_vmax_ref', type='number', value=32, style=input_style)\n",
    "            ], style={'marginBottom': '10px'}),\n",
    "            html.Div([\n",
    "                html.Label(\"Energia de Ativação da Reação (kJ/mol)\", style=label_style),\n",
    "                dcc.Input(id='input_ea', type='number', value=50, style=input_style)\n",
    "            ], style={'marginBottom': '10px'}),\n",
    "            html.Div([\n",
    "                html.Label(\"Temperatura de Referência (°C)\", style=label_style),\n",
    "                dcc.Input(id='input_tref', type='number', value=25, style=input_style)\n",
    "            ], style={'marginBottom': '10px'}),\n",
    "            html.Div([\n",
    "                html.Label(\"Constante de Michaelis-Menten (mol/L)\", style=label_style),\n",
    "                dcc.Input(id='input_km_ref', type='number', value=0.4, style=input_style)\n",
    "            ], style={'marginBottom': '10px'}),\n",
    "            html.Div([\n",
    "                html.Label(\"Variação de Entalpia (kJ/mol)\", style=label_style),\n",
    "                dcc.Input(id='input_deltah', type='number', value=-20, style=input_style)\n",
    "            ], style={'marginBottom': '10px'}),\n",
    "            html.Div([\n",
    "                html.Label(\"Temperatura Ótima em Condições Ideais (°C)\", style=label_style),\n",
    "                dcc.Input(id='input_topt', type='number', value=37, style=input_style)\n",
    "            ], style={'marginBottom': '10px'}),\n",
    "            html.Div([\n",
    "                html.Label(\"Sensibilidade Térmica (°C)\", style=label_style),\n",
    "                dcc.Input(id='input_sigma', type='number', value=10, style=input_style)\n",
    "            ], style={'marginBottom': '10px'}),\n",
    "        ], style={\n",
    "            'flex': '0 0 380px',\n",
    "            'paddingRight': '30px',\n",
    "            'overflowY': 'auto',\n",
    "            'maxHeight': '750px',\n",
    "            'boxSizing': 'border-box'\n",
    "        }),\n",
    "\n",
    "        html.Div([\n",
    "            dcc.Graph(id='graph-3d', style={'height': '700px'})\n",
    "        ], style={'flex': '1'})\n",
    "    ], style={'display': 'flex', 'flexDirection': 'row'})\n",
    "], style=container_style)\n",
    "\n"
   ]
  }
 ],
 "metadata": {
  "language_info": {
   "name": "python"
  }
 },
 "nbformat": 4,
 "nbformat_minor": 5
}
