{
 "cells": [
  {
   "cell_type": "code",
   "execution_count": null,
   "id": "60daacda",
   "metadata": {
    "vscode": {
     "languageId": "plaintext"
    }
   },
   "outputs": [],
   "source": [
    "!pip install plotly dash numpy"
   ]
  },
  {
   "cell_type": "code",
   "execution_count": null,
   "id": "664604e8",
   "metadata": {
    "vscode": {
     "languageId": "plaintext"
    }
   },
   "outputs": [],
   "source": [
    "import plotly.graph_objects as go\n",
    "from dash import Dash, dcc, html, Input, Output\n",
    "import numpy as np\n",
    "import math"
   ]
  },
  {
   "cell_type": "code",
   "execution_count": null,
   "id": "63380d0b",
   "metadata": {
    "vscode": {
     "languageId": "plaintext"
    }
   },
   "outputs": [],
   "source": [
    "def velocidade_da_reacao(S, T, pH, pKa, pKb, Vmax_ref, Ea, T_ref, Km_ref, deltaH, T_opt, sigma):\n",
    "    T_K = T + 273.15\n",
    "    T_ref_K = T_ref + 273.15\n",
    "    T_opt_K = T_opt + 273.15\n",
    "\n",
    "    term1 = 1 / (1 + 10**(pKa - pH) + 10**(pH - pKb))\n",
    "    exp1 = math.exp((-Ea * 1000 / 8.314) * (1 / T_K - 1 / T_ref_K))\n",
    "    exp2 = math.exp((deltaH * 1000 / 8.314) * (1 / T_K - 1 / T_ref_K))\n",
    "    fator_f = math.exp(-((T_K - T_opt_K) / sigma)**2)\n",
    "\n",
    "    numerador = Vmax_ref * exp1 * fator_f * S\n",
    "    denominador = Km_ref * exp2 + S\n",
    "\n",
    "    return term1 * (numerador / denominador)"
   ]
  }
 ],
 "metadata": {
  "language_info": {
   "name": "python"
  }
 },
 "nbformat": 4,
 "nbformat_minor": 5
}
