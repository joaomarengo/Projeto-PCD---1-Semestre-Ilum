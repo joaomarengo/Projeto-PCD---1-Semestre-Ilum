{
 "cells": [
  {
   "cell_type": "markdown",
   "id": "74d71477",
   "metadata": {},
   "source": [
    "Código - Simulação da Cinética Enzimática\n",
    "===========================================================\n",
    "\n",
    "**Autores:**  \n",
    "\n",
    "João Gabriel Lima Marengo  \n",
    "Joaquim Junior Ferola Fonseca  \n",
    "Sophia Alves da Silva\n",
    "\n",
    "---"
   ]
  },
  {
   "cell_type": "markdown",
   "id": "f55610ea",
   "metadata": {},
   "source": [
    "## Descrição do Projeto"
   ]
  },
  {
   "cell_type": "markdown",
   "id": "b4f2769c",
   "metadata": {},
   "source": [
    "Este notebook é o projeto final da disciplina Prática em Ciência de Dados, cursada no primeiro semestre do Bacharelado em Ciência e Tecnologia da Ilum Escola de Ciência. O objetivo dessa aplicação é aplicar e aprofundar os conhecimentos adquiridos ao longo do semestre em um projeto prático, apresentado em um simpósio interno na própria instituição, com arguição dos professores responsáveis pela disciplina."
   ]
  },
  {
   "cell_type": "markdown",
   "id": "308599ad",
   "metadata": {},
   "source": [
    "## Objetivo"
   ]
  },
  {
   "cell_type": "markdown",
   "id": "d4abdb4b",
   "metadata": {},
   "source": [
    "O principal objetivo deste projeto é explorar o potencial das bibliotecas Plotly e Dash para a criação de uma visualização gráfica interativa. A cinética enzimática foi escolhida como exemplo prático para aplicar essas ferramentas, permitindo manipular parâmetros como concentração do substrato, constantes de ionização, energia de ativação, entre outros. A partir desses parâmetros, é gerado um  gráfico tridimensional da velocidade enzimática, em que os eixos x e y representam a temperatura e o pH , respectivamente, e o eixo z representa a velocidade da reação.\n",
    "\n",
    "Essa abordagem facilita uma compreensão visual e dinâmica dos fatores que influenciam a atividade enzimática, além de demonstrar as capacidades das bibliotecas para projetos de ciência de dados interativos."
   ]
  },
  {
   "cell_type": "markdown",
   "id": "bc335456",
   "metadata": {},
   "source": [
    "## Índice"
   ]
  },
  {
   "cell_type": "markdown",
   "id": "61a207ad",
   "metadata": {},
   "source": [
    "1. [Introdução às Bibliotecas](#1-introdução-às-bibliotecas)\n",
    "   - [1.1. Biblioteca Plotly](#11-biblioteca-plotly)\n",
    "   - [1.2. Biblioteca Dash](#12-biblioteca-dash)\n",
    "   - [1.3. Outras Bibliotecas Utilizadas](#13-outras-biblitoecas-utilizadas)\n",
    "2. [Criação da Função Base](#2-criação-da-função-base)\n",
    "3. [Implementação do Código](#3-implementação-do-código)\n",
    "4. [Resultados](#4-resultados)\n",
    "5. [Conclusão](#5-conclusão)\n",
    "6. [Contribuições](#6-contribuições)\n",
    "7. [Licença](#7-licença)"
   ]
  },
  {
   "cell_type": "markdown",
   "id": "fc680f3e",
   "metadata": {},
   "source": [
    "## 1. Introdução às Bibliotecas"
   ]
  },
  {
   "cell_type": "markdown",
   "id": "7f6b98fe",
   "metadata": {},
   "source": [
    "Dado que o propósito central deste projeto é explorar o potencial das bibliotecas Plotly e Dash na construção de visualizações interativas, é essencial apresentar brevemente suas principais características e funções. A seguir, explicamos como essas ferramentas, juntamente com outras bibliotecas de suporte, foram aplicadas na criação de uma simulação dinâmica da cinética enzimática, permitindo ao usuário interagir com variáveis experimentais e observar seus efeitos em tempo real."
   ]
  },
  {
   "cell_type": "markdown",
   "id": "c9682e76",
   "metadata": {},
   "source": [
    "### 1.1. Biblioteca Plotly"
   ]
  },
  {
   "cell_type": "markdown",
   "id": "3a974e17",
   "metadata": {},
   "source": [
    "[Plotly](https://plotly.com/python/) é uma biblioteca de visualização gráfica altamente interativa e compatível com notebooks, scripts Python e aplicações web. Ela permite a criação de gráficos em 2D e 3D com grande nível de customização e interatividade.\n",
    "\n",
    "Neste projeto, usamos `plotly.graph_objects` para construir superfícies tridimensionais que representam como a velocidade da reação enzimática varia com temperatura e pH."
   ]
  },
  {
   "cell_type": "markdown",
   "id": "52425a7e",
   "metadata": {},
   "source": [
    "### 1.2. Biblioteca Dash"
   ]
  },
  {
   "cell_type": "markdown",
   "id": "fcf1b08f",
   "metadata": {},
   "source": [
    "[Dash](https://dash.plotly.com/) é um framework desenvolvido pelos criadores do Plotly que permite construir interfaces web interativas em Python.\n",
    "\n",
    "Com o Dash, podemos criar dashboards dinâmicos e interativos em que a visualização de dados é atualizada em tempo real a partir da interação do usuário com controles como sliders, inputs ou menus.\n",
    "\n",
    "Este é o núcleo funcional da aplicação, servindo como base para a construção da interface web."
   ]
  },
  {
   "cell_type": "markdown",
   "id": "349f0745",
   "metadata": {},
   "source": [
    "### 1.3. Outras Bibliotecas Utilizadas"
   ]
  },
  {
   "cell_type": "markdown",
   "id": "4567be61",
   "metadata": {},
   "source": [
    "* [NumPy](https://numpy.org/): biblioteca essencial para cálculos numéricos, especialmente na criação de matrizes e vetores usados para gerar os valores de temperatura e pH que alimentarão a superfície 3D.\n",
    "* [Math](https://docs.python.org/pt-br/3/library/math.html): biblioteca padrão do Python utilizada para funções matemáticas como exponencial e potência."
   ]
  },
  {
   "cell_type": "code",
   "execution_count": null,
   "id": "60daacda",
   "metadata": {
    "vscode": {
     "languageId": "plaintext"
    }
   },
   "outputs": [],
   "source": [
    "!pip install plotly dash numpy"
   ]
  },
  {
   "cell_type": "code",
   "execution_count": null,
   "id": "664604e8",
   "metadata": {
    "vscode": {
     "languageId": "plaintext"
    }
   },
   "outputs": [],
   "source": [
    "import plotly.graph_objects as go\n",
    "from dash import Dash, dcc, html, Input, Output\n",
    "import numpy as np\n",
    "import math"
   ]
  },
  {
   "cell_type": "code",
   "execution_count": null,
   "id": "63380d0b",
   "metadata": {
    "vscode": {
     "languageId": "plaintext"
    }
   },
   "outputs": [],
   "source": [
    "def velocidade_da_reacao(S, T, pH, pKa, pKb, Vmax_ref, Ea, T_ref, Km_ref, deltaH, T_opt, sigma):\n",
    "    T_K = T + 273.15\n",
    "    T_ref_K = T_ref + 273.15\n",
    "    T_opt_K = T_opt + 273.15\n",
    "\n",
    "    term1 = 1 / (1 + 10**(pKa - pH) + 10**(pH - pKb))\n",
    "    exp1 = math.exp((-Ea * 1000 / 8.314) * (1 / T_K - 1 / T_ref_K))\n",
    "    exp2 = math.exp((deltaH * 1000 / 8.314) * (1 / T_K - 1 / T_ref_K))\n",
    "    fator_f = math.exp(-((T_K - T_opt_K) / sigma)**2)\n",
    "\n",
    "    numerador = Vmax_ref * exp1 * fator_f * S\n",
    "    denominador = Km_ref * exp2 + S\n",
    "\n",
    "    return term1 * (numerador / denominador)"
   ]
  },
  {
   "cell_type": "code",
   "execution_count": null,
   "id": "7373bd10",
   "metadata": {
    "vscode": {
     "languageId": "plaintext"
    }
   },
   "outputs": [],
   "source": [
    "app = Dash(__name__)\n",
    "\n",
    "label_style = {\n",
    "    'color': '#333333',\n",
    "    'fontWeight': 'bold',\n",
    "    'fontSize': '14px',\n",
    "    'marginBottom': '6px',\n",
    "    'display': 'block'\n",
    "}\n",
    "\n",
    "input_style = {\n",
    "    'width': '100%',\n",
    "    'padding': '8px 12px',\n",
    "    'border': '1px solid #ccc',\n",
    "    'borderRadius': '6px',\n",
    "    'fontSize': '14px',\n",
    "    'fontWeight': '400',\n",
    "    'outline': 'none',\n",
    "    'boxShadow': 'none',\n",
    "    'transition': 'border-color 0.3s ease'\n",
    "}\n",
    "\n",
    "container_style = {\n",
    "    'maxWidth': '1100px',\n",
    "    'margin': '40px auto',\n",
    "    'padding': '30px',\n",
    "    'backgroundColor': '#f5f5f7',\n",
    "    'borderRadius': '12px',\n",
    "    'fontFamily': 'Trebuchet MS, sans-serif',\n",
    "    'color': '#1d1d1f',\n",
    "    'boxShadow': '0 4px 12px rgba(0,0,0,0.05)'\n",
    "}\n",
    "\n",
    "title_style = {\n",
    "    'textAlign': 'center',\n",
    "    'color': '#1d1d1f',\n",
    "    'marginBottom': '40px',\n",
    "    'fontWeight': '600',\n",
    "    'fontSize': '28px'\n",
    "}\n",
    "\n",
    "app.layout = html.Div([\n",
    "    html.H1(\"Simulação - Cinética Enzimática\", style=title_style),\n",
    "\n",
    "    html.Div([\n",
    "        html.Div([\n",
    "            html.Div([\n",
    "                html.Label(\"Concentração do Substrato (mol/L)\", style=label_style),\n",
    "                dcc.Input(id='input_s', type='number', value=10, step=0.1, style=input_style)\n",
    "            ], style={'marginBottom': '10px'}),\n",
    "            html.Div([\n",
    "                html.Label(\"Constante de Dissociação do Grupo Ácido (pKa)\", style=label_style),\n",
    "                dcc.Input(id='input_pka', type='number', value=6.5, step=0.1, style=input_style)\n",
    "            ], style={'marginBottom': '10px'}),\n",
    "            html.Div([\n",
    "                html.Label(\"Constante de Dissociação do Grupo Básico (pKb)\", style=label_style),\n",
    "                dcc.Input(id='input_pkb', type='number', value=8, step=0.1, style=input_style)\n",
    "            ], style={'marginBottom': '10px'}),\n",
    "            html.Div([\n",
    "                html.Label(\"Velocidade Máxima da Reação (mol/L.s)\", style=label_style),\n",
    "                dcc.Input(id='input_vmax_ref', type='number', value=32, style=input_style)\n",
    "            ], style={'marginBottom': '10px'}),\n",
    "            html.Div([\n",
    "                html.Label(\"Energia de Ativação da Reação (kJ/mol)\", style=label_style),\n",
    "                dcc.Input(id='input_ea', type='number', value=50, style=input_style)\n",
    "            ], style={'marginBottom': '10px'}),\n",
    "            html.Div([\n",
    "                html.Label(\"Temperatura de Referência (°C)\", style=label_style),\n",
    "                dcc.Input(id='input_tref', type='number', value=25, style=input_style)\n",
    "            ], style={'marginBottom': '10px'}),\n",
    "            html.Div([\n",
    "                html.Label(\"Constante de Michaelis-Menten (mol/L)\", style=label_style),\n",
    "                dcc.Input(id='input_km_ref', type='number', value=0.4, style=input_style)\n",
    "            ], style={'marginBottom': '10px'}),\n",
    "            html.Div([\n",
    "                html.Label(\"Variação de Entalpia (kJ/mol)\", style=label_style),\n",
    "                dcc.Input(id='input_deltah', type='number', value=-20, style=input_style)\n",
    "            ], style={'marginBottom': '10px'}),\n",
    "            html.Div([\n",
    "                html.Label(\"Temperatura Ótima em Condições Ideais (°C)\", style=label_style),\n",
    "                dcc.Input(id='input_topt', type='number', value=37, style=input_style)\n",
    "            ], style={'marginBottom': '10px'}),\n",
    "            html.Div([\n",
    "                html.Label(\"Sensibilidade Térmica (°C)\", style=label_style),\n",
    "                dcc.Input(id='input_sigma', type='number', value=10, style=input_style)\n",
    "            ], style={'marginBottom': '10px'}),\n",
    "        ], style={\n",
    "            'flex': '0 0 380px',\n",
    "            'paddingRight': '30px',\n",
    "            'overflowY': 'auto',\n",
    "            'maxHeight': '750px',\n",
    "            'boxSizing': 'border-box'\n",
    "        }),\n",
    "\n",
    "        html.Div([\n",
    "            dcc.Graph(id='graph-3d', style={'height': '700px'})\n",
    "        ], style={'flex': '1'})\n",
    "    ], style={'display': 'flex', 'flexDirection': 'row'})\n",
    "], style=container_style)"
   ]
  }
 ],
 "metadata": {
  "language_info": {
   "name": "python"
  }
 },
 "nbformat": 4,
 "nbformat_minor": 5
}
