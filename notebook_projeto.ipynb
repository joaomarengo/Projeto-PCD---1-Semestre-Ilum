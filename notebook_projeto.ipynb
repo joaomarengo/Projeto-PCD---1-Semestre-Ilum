{
 "cells": [
  {
   "cell_type": "code",
   "execution_count": null,
   "id": "60daacda",
   "metadata": {
    "vscode": {
     "languageId": "plaintext"
    }
   },
   "outputs": [],
   "source": [
    "!pip install plotly dash numpy"
   ]
  },
  {
   "cell_type": "code",
   "execution_count": null,
   "id": "664604e8",
   "metadata": {
    "vscode": {
     "languageId": "plaintext"
    }
   },
   "outputs": [],
   "source": [
    "import plotly.graph_objects as go\n",
    "from dash import Dash, dcc, html, Input, Output\n",
    "import numpy as np\n",
    "import math"
   ]
  },
  {
   "cell_type": "code",
   "execution_count": null,
   "id": "63380d0b",
   "metadata": {
    "vscode": {
     "languageId": "plaintext"
    }
   },
   "outputs": [],
   "source": [
    "def velocidade_da_reacao(S, T, pH, pKa, pKb, Vmax_ref, Ea, T_ref, Km_ref, deltaH, T_opt, sigma):\n",
    "    T_K = T + 273.15\n",
    "    T_ref_K = T_ref + 273.15\n",
    "    T_opt_K = T_opt + 273.15\n",
    "\n",
    "    term1 = 1 / (1 + 10**(pKa - pH) + 10**(pH - pKb))\n",
    "    exp1 = math.exp((-Ea * 1000 / 8.314) * (1 / T_K - 1 / T_ref_K))\n",
    "    exp2 = math.exp((deltaH * 1000 / 8.314) * (1 / T_K - 1 / T_ref_K))\n",
    "    fator_f = math.exp(-((T_K - T_opt_K) / sigma)**2)\n",
    "\n",
    "    numerador = Vmax_ref * exp1 * fator_f * S\n",
    "    denominador = Km_ref * exp2 + S\n",
    "\n",
    "    return term1 * (numerador / denominador)"
   ]
  },
  {
   "cell_type": "code",
   "execution_count": null,
   "id": "7373bd10",
   "metadata": {
    "vscode": {
     "languageId": "plaintext"
    }
   },
   "outputs": [],
   "source": [
    "app = Dash(__name__)\n",
    "\n",
    "label_style = {\n",
    "    'color': '#333333',\n",
    "    'fontWeight': 'bold',\n",
    "    'fontSize': '14px',\n",
    "    'marginBottom': '6px',\n",
    "    'display': 'block'\n",
    "}\n",
    "\n",
    "input_style = {\n",
    "    'width': '100%',\n",
    "    'padding': '8px 12px',\n",
    "    'border': '1px solid #ccc',\n",
    "    'borderRadius': '6px',\n",
    "    'fontSize': '14px',\n",
    "    'fontWeight': '400',\n",
    "    'outline': 'none',\n",
    "    'boxShadow': 'none',\n",
    "    'transition': 'border-color 0.3s ease'\n",
    "}\n",
    "\n",
    "container_style = {\n",
    "    'maxWidth': '1100px',\n",
    "    'margin': '40px auto',\n",
    "    'padding': '30px',\n",
    "    'backgroundColor': '#f5f5f7',\n",
    "    'borderRadius': '12px',\n",
    "    'fontFamily': 'Trebuchet MS, sans-serif',\n",
    "    'color': '#1d1d1f',\n",
    "    'boxShadow': '0 4px 12px rgba(0,0,0,0.05)'\n",
    "}\n",
    "\n",
    "title_style = {\n",
    "    'textAlign': 'center',\n",
    "    'color': '#1d1d1f',\n",
    "    'marginBottom': '40px',\n",
    "    'fontWeight': '600',\n",
    "    'fontSize': '28px'\n",
    "}"
   ]
  }
 ],
 "metadata": {
  "language_info": {
   "name": "python"
  }
 },
 "nbformat": 4,
 "nbformat_minor": 5
}
