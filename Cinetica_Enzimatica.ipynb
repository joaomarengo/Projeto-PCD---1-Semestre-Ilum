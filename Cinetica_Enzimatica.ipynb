{
 "cells": [
  {
   "cell_type": "markdown",
   "id": "6163e123",
   "metadata": {},
   "source": [
    "# Gráfico Função de Michaelis"
   ]
  },
  {
   "cell_type": "code",
   "execution_count": null,
   "id": "9d01943e",
   "metadata": {},
   "outputs": [
    {
     "data": {
      "application/vnd.plotly.v1+json": {
       "config": {
        "plotlyServerURL": "https://plot.ly"
       },
       "data": [
        {
         "mode": "lines",
         "type": "scatter",
         "x": {
          "bdata": "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",
          "dtype": "f8"
         },
         "y": {
          "bdata": "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",
          "dtype": "f8"
         }
        }
       ],
       "layout": {
        "template": {
         "data": {
          "bar": [
           {
            "error_x": {
             "color": "#2a3f5f"
            },
            "error_y": {
             "color": "#2a3f5f"
            },
            "marker": {
             "line": {
              "color": "#E5ECF6",
              "width": 0.5
             },
             "pattern": {
              "fillmode": "overlay",
              "size": 10,
              "solidity": 0.2
             }
            },
            "type": "bar"
           }
          ],
          "barpolar": [
           {
            "marker": {
             "line": {
              "color": "#E5ECF6",
              "width": 0.5
             },
             "pattern": {
              "fillmode": "overlay",
              "size": 10,
              "solidity": 0.2
             }
            },
            "type": "barpolar"
           }
          ],
          "carpet": [
           {
            "aaxis": {
             "endlinecolor": "#2a3f5f",
             "gridcolor": "white",
             "linecolor": "white",
             "minorgridcolor": "white",
             "startlinecolor": "#2a3f5f"
            },
            "baxis": {
             "endlinecolor": "#2a3f5f",
             "gridcolor": "white",
             "linecolor": "white",
             "minorgridcolor": "white",
             "startlinecolor": "#2a3f5f"
            },
            "type": "carpet"
           }
          ],
          "choropleth": [
           {
            "colorbar": {
             "outlinewidth": 0,
             "ticks": ""
            },
            "type": "choropleth"
           }
          ],
          "contour": [
           {
            "colorbar": {
             "outlinewidth": 0,
             "ticks": ""
            },
            "colorscale": [
             [
              0,
              "#0d0887"
             ],
             [
              0.1111111111111111,
              "#46039f"
             ],
             [
              0.2222222222222222,
              "#7201a8"
             ],
             [
              0.3333333333333333,
              "#9c179e"
             ],
             [
              0.4444444444444444,
              "#bd3786"
             ],
             [
              0.5555555555555556,
              "#d8576b"
             ],
             [
              0.6666666666666666,
              "#ed7953"
             ],
             [
              0.7777777777777778,
              "#fb9f3a"
             ],
             [
              0.8888888888888888,
              "#fdca26"
             ],
             [
              1,
              "#f0f921"
             ]
            ],
            "type": "contour"
           }
          ],
          "contourcarpet": [
           {
            "colorbar": {
             "outlinewidth": 0,
             "ticks": ""
            },
            "type": "contourcarpet"
           }
          ],
          "heatmap": [
           {
            "colorbar": {
             "outlinewidth": 0,
             "ticks": ""
            },
            "colorscale": [
             [
              0,
              "#0d0887"
             ],
             [
              0.1111111111111111,
              "#46039f"
             ],
             [
              0.2222222222222222,
              "#7201a8"
             ],
             [
              0.3333333333333333,
              "#9c179e"
             ],
             [
              0.4444444444444444,
              "#bd3786"
             ],
             [
              0.5555555555555556,
              "#d8576b"
             ],
             [
              0.6666666666666666,
              "#ed7953"
             ],
             [
              0.7777777777777778,
              "#fb9f3a"
             ],
             [
              0.8888888888888888,
              "#fdca26"
             ],
             [
              1,
              "#f0f921"
             ]
            ],
            "type": "heatmap"
           }
          ],
          "histogram": [
           {
            "marker": {
             "pattern": {
              "fillmode": "overlay",
              "size": 10,
              "solidity": 0.2
             }
            },
            "type": "histogram"
           }
          ],
          "histogram2d": [
           {
            "colorbar": {
             "outlinewidth": 0,
             "ticks": ""
            },
            "colorscale": [
             [
              0,
              "#0d0887"
             ],
             [
              0.1111111111111111,
              "#46039f"
             ],
             [
              0.2222222222222222,
              "#7201a8"
             ],
             [
              0.3333333333333333,
              "#9c179e"
             ],
             [
              0.4444444444444444,
              "#bd3786"
             ],
             [
              0.5555555555555556,
              "#d8576b"
             ],
             [
              0.6666666666666666,
              "#ed7953"
             ],
             [
              0.7777777777777778,
              "#fb9f3a"
             ],
             [
              0.8888888888888888,
              "#fdca26"
             ],
             [
              1,
              "#f0f921"
             ]
            ],
            "type": "histogram2d"
           }
          ],
          "histogram2dcontour": [
           {
            "colorbar": {
             "outlinewidth": 0,
             "ticks": ""
            },
            "colorscale": [
             [
              0,
              "#0d0887"
             ],
             [
              0.1111111111111111,
              "#46039f"
             ],
             [
              0.2222222222222222,
              "#7201a8"
             ],
             [
              0.3333333333333333,
              "#9c179e"
             ],
             [
              0.4444444444444444,
              "#bd3786"
             ],
             [
              0.5555555555555556,
              "#d8576b"
             ],
             [
              0.6666666666666666,
              "#ed7953"
             ],
             [
              0.7777777777777778,
              "#fb9f3a"
             ],
             [
              0.8888888888888888,
              "#fdca26"
             ],
             [
              1,
              "#f0f921"
             ]
            ],
            "type": "histogram2dcontour"
           }
          ],
          "mesh3d": [
           {
            "colorbar": {
             "outlinewidth": 0,
             "ticks": ""
            },
            "type": "mesh3d"
           }
          ],
          "parcoords": [
           {
            "line": {
             "colorbar": {
              "outlinewidth": 0,
              "ticks": ""
             }
            },
            "type": "parcoords"
           }
          ],
          "pie": [
           {
            "automargin": true,
            "type": "pie"
           }
          ],
          "scatter": [
           {
            "fillpattern": {
             "fillmode": "overlay",
             "size": 10,
             "solidity": 0.2
            },
            "type": "scatter"
           }
          ],
          "scatter3d": [
           {
            "line": {
             "colorbar": {
              "outlinewidth": 0,
              "ticks": ""
             }
            },
            "marker": {
             "colorbar": {
              "outlinewidth": 0,
              "ticks": ""
             }
            },
            "type": "scatter3d"
           }
          ],
          "scattercarpet": [
           {
            "marker": {
             "colorbar": {
              "outlinewidth": 0,
              "ticks": ""
             }
            },
            "type": "scattercarpet"
           }
          ],
          "scattergeo": [
           {
            "marker": {
             "colorbar": {
              "outlinewidth": 0,
              "ticks": ""
             }
            },
            "type": "scattergeo"
           }
          ],
          "scattergl": [
           {
            "marker": {
             "colorbar": {
              "outlinewidth": 0,
              "ticks": ""
             }
            },
            "type": "scattergl"
           }
          ],
          "scattermap": [
           {
            "marker": {
             "colorbar": {
              "outlinewidth": 0,
              "ticks": ""
             }
            },
            "type": "scattermap"
           }
          ],
          "scattermapbox": [
           {
            "marker": {
             "colorbar": {
              "outlinewidth": 0,
              "ticks": ""
             }
            },
            "type": "scattermapbox"
           }
          ],
          "scatterpolar": [
           {
            "marker": {
             "colorbar": {
              "outlinewidth": 0,
              "ticks": ""
             }
            },
            "type": "scatterpolar"
           }
          ],
          "scatterpolargl": [
           {
            "marker": {
             "colorbar": {
              "outlinewidth": 0,
              "ticks": ""
             }
            },
            "type": "scatterpolargl"
           }
          ],
          "scatterternary": [
           {
            "marker": {
             "colorbar": {
              "outlinewidth": 0,
              "ticks": ""
             }
            },
            "type": "scatterternary"
           }
          ],
          "surface": [
           {
            "colorbar": {
             "outlinewidth": 0,
             "ticks": ""
            },
            "colorscale": [
             [
              0,
              "#0d0887"
             ],
             [
              0.1111111111111111,
              "#46039f"
             ],
             [
              0.2222222222222222,
              "#7201a8"
             ],
             [
              0.3333333333333333,
              "#9c179e"
             ],
             [
              0.4444444444444444,
              "#bd3786"
             ],
             [
              0.5555555555555556,
              "#d8576b"
             ],
             [
              0.6666666666666666,
              "#ed7953"
             ],
             [
              0.7777777777777778,
              "#fb9f3a"
             ],
             [
              0.8888888888888888,
              "#fdca26"
             ],
             [
              1,
              "#f0f921"
             ]
            ],
            "type": "surface"
           }
          ],
          "table": [
           {
            "cells": {
             "fill": {
              "color": "#EBF0F8"
             },
             "line": {
              "color": "white"
             }
            },
            "header": {
             "fill": {
              "color": "#C8D4E3"
             },
             "line": {
              "color": "white"
             }
            },
            "type": "table"
           }
          ]
         },
         "layout": {
          "annotationdefaults": {
           "arrowcolor": "#2a3f5f",
           "arrowhead": 0,
           "arrowwidth": 1
          },
          "autotypenumbers": "strict",
          "coloraxis": {
           "colorbar": {
            "outlinewidth": 0,
            "ticks": ""
           }
          },
          "colorscale": {
           "diverging": [
            [
             0,
             "#8e0152"
            ],
            [
             0.1,
             "#c51b7d"
            ],
            [
             0.2,
             "#de77ae"
            ],
            [
             0.3,
             "#f1b6da"
            ],
            [
             0.4,
             "#fde0ef"
            ],
            [
             0.5,
             "#f7f7f7"
            ],
            [
             0.6,
             "#e6f5d0"
            ],
            [
             0.7,
             "#b8e186"
            ],
            [
             0.8,
             "#7fbc41"
            ],
            [
             0.9,
             "#4d9221"
            ],
            [
             1,
             "#276419"
            ]
           ],
           "sequential": [
            [
             0,
             "#0d0887"
            ],
            [
             0.1111111111111111,
             "#46039f"
            ],
            [
             0.2222222222222222,
             "#7201a8"
            ],
            [
             0.3333333333333333,
             "#9c179e"
            ],
            [
             0.4444444444444444,
             "#bd3786"
            ],
            [
             0.5555555555555556,
             "#d8576b"
            ],
            [
             0.6666666666666666,
             "#ed7953"
            ],
            [
             0.7777777777777778,
             "#fb9f3a"
            ],
            [
             0.8888888888888888,
             "#fdca26"
            ],
            [
             1,
             "#f0f921"
            ]
           ],
           "sequentialminus": [
            [
             0,
             "#0d0887"
            ],
            [
             0.1111111111111111,
             "#46039f"
            ],
            [
             0.2222222222222222,
             "#7201a8"
            ],
            [
             0.3333333333333333,
             "#9c179e"
            ],
            [
             0.4444444444444444,
             "#bd3786"
            ],
            [
             0.5555555555555556,
             "#d8576b"
            ],
            [
             0.6666666666666666,
             "#ed7953"
            ],
            [
             0.7777777777777778,
             "#fb9f3a"
            ],
            [
             0.8888888888888888,
             "#fdca26"
            ],
            [
             1,
             "#f0f921"
            ]
           ]
          },
          "colorway": [
           "#636efa",
           "#EF553B",
           "#00cc96",
           "#ab63fa",
           "#FFA15A",
           "#19d3f3",
           "#FF6692",
           "#B6E880",
           "#FF97FF",
           "#FECB52"
          ],
          "font": {
           "color": "#2a3f5f"
          },
          "geo": {
           "bgcolor": "white",
           "lakecolor": "white",
           "landcolor": "#E5ECF6",
           "showlakes": true,
           "showland": true,
           "subunitcolor": "white"
          },
          "hoverlabel": {
           "align": "left"
          },
          "hovermode": "closest",
          "mapbox": {
           "style": "light"
          },
          "paper_bgcolor": "white",
          "plot_bgcolor": "#E5ECF6",
          "polar": {
           "angularaxis": {
            "gridcolor": "white",
            "linecolor": "white",
            "ticks": ""
           },
           "bgcolor": "#E5ECF6",
           "radialaxis": {
            "gridcolor": "white",
            "linecolor": "white",
            "ticks": ""
           }
          },
          "scene": {
           "xaxis": {
            "backgroundcolor": "#E5ECF6",
            "gridcolor": "white",
            "gridwidth": 2,
            "linecolor": "white",
            "showbackground": true,
            "ticks": "",
            "zerolinecolor": "white"
           },
           "yaxis": {
            "backgroundcolor": "#E5ECF6",
            "gridcolor": "white",
            "gridwidth": 2,
            "linecolor": "white",
            "showbackground": true,
            "ticks": "",
            "zerolinecolor": "white"
           },
           "zaxis": {
            "backgroundcolor": "#E5ECF6",
            "gridcolor": "white",
            "gridwidth": 2,
            "linecolor": "white",
            "showbackground": true,
            "ticks": "",
            "zerolinecolor": "white"
           }
          },
          "shapedefaults": {
           "line": {
            "color": "#2a3f5f"
           }
          },
          "ternary": {
           "aaxis": {
            "gridcolor": "white",
            "linecolor": "white",
            "ticks": ""
           },
           "baxis": {
            "gridcolor": "white",
            "linecolor": "white",
            "ticks": ""
           },
           "bgcolor": "#E5ECF6",
           "caxis": {
            "gridcolor": "white",
            "linecolor": "white",
            "ticks": ""
           }
          },
          "title": {
           "x": 0.05
          },
          "xaxis": {
           "automargin": true,
           "gridcolor": "white",
           "linecolor": "white",
           "ticks": "",
           "title": {
            "standoff": 15
           },
           "zerolinecolor": "white",
           "zerolinewidth": 2
          },
          "yaxis": {
           "automargin": true,
           "gridcolor": "white",
           "linecolor": "white",
           "ticks": "",
           "title": {
            "standoff": 15
           },
           "zerolinecolor": "white",
           "zerolinewidth": 2
          }
         }
        },
        "title": {
         "text": "Michaelis"
        },
        "xaxis": {
         "title": {
          "text": "Concentração do Substrato (mol/L)"
         }
        },
        "yaxis": {
         "title": {
          "text": "Velocidade da reação (mol/L.s)"
         }
        }
       }
      }
     },
     "metadata": {},
     "output_type": "display_data"
    }
   ],
   "source": [
    "import numpy as np\n",
    "import plotly.graph_objects as go\n",
    "\n",
    "def michaelis (conc_subst, km, vmax):\n",
    "    v_reaction = (vmax*conc_subst)/(km+conc_subst)\n",
    "    return v_reaction\n",
    "\n",
    "km = 0.38\n",
    "vmax = 32\n",
    "\n",
    "s = np.linspace(0, 20, 500)\n",
    "v = michaelis(s, km, vmax)\n",
    "\n",
    "fig = go.Figure()\n",
    "\n",
    "fig.add_trace(go.Scatter(\n",
    "    x=s,\n",
    "    y=v,\n",
    "    mode='lines',\n",
    "))\n",
    "\n",
    "fig.update_layout(\n",
    "    title=\"Michaelis\",\n",
    "    xaxis_title=\"Concentração do Substrato (mol/L)\",\n",
    "    yaxis_title=\"Velocidade da reação (mol/L.s)\"\n",
    ")\n",
    "\n",
    "fig.show()"
   ]
  },
  {
   "cell_type": "markdown",
   "id": "ee0aaccf",
   "metadata": {},
   "source": [
    "# Gráfico Função de Michaelis (Km e Vmáx ajustável)"
   ]
  },
  {
   "cell_type": "code",
   "execution_count": 3,
   "id": "a4ebc063",
   "metadata": {},
   "outputs": [
    {
     "data": {
      "text/html": [
       "\n",
       "        <iframe\n",
       "            width=\"100%\"\n",
       "            height=\"650\"\n",
       "            src=\"http://127.0.0.1:8020/\"\n",
       "            frameborder=\"0\"\n",
       "            allowfullscreen\n",
       "            \n",
       "        ></iframe>\n",
       "        "
      ],
      "text/plain": [
       "<IPython.lib.display.IFrame at 0x18f7b4d4fb0>"
      ]
     },
     "metadata": {},
     "output_type": "display_data"
    }
   ],
   "source": [
    "import numpy as np\n",
    "import plotly.graph_objects as go\n",
    "from dash import Dash, dcc, html, Input, Output\n",
    "\n",
    "def michaelis (conc_subst, km, vmax):\n",
    "    v_reaction = (vmax*conc_subst)/(km+conc_subst)\n",
    "    return v_reaction\n",
    "\n",
    "s = np.linspace(0, 20, 500)\n",
    "v = michaelis(s, 0.4, 32)\n",
    "\n",
    "fig = go.Figure()\n",
    "\n",
    "fig.add_trace(go.Scatter(\n",
    "    x=s,\n",
    "    y=v,\n",
    "    mode='lines',\n",
    "))\n",
    "\n",
    "fig.update_layout(\n",
    "    title=\"Michaelis\",\n",
    "    xaxis=dict(range=[0, 20]),\n",
    "    yaxis=dict(range=[0, 50]),\n",
    "    xaxis_title=\"Concentração do Substrato (mol/L)\",\n",
    "    yaxis_title=\"Velocidade da reação (mol/L.s)\"\n",
    ")\n",
    "\n",
    "app = Dash(__name__)\n",
    "\n",
    "app.layout = html.Div([\n",
    "    html.Label(\"Km:\", style={'color': 'white'}),\n",
    "    dcc.Slider(\n",
    "        id='km-slider',\n",
    "        min=0.1,\n",
    "        max=2.0,\n",
    "        step=0.1,\n",
    "        value=0.4\n",
    "    ),\n",
    "\n",
    "    html.Br(),\n",
    "\n",
    "    html.Label(\"Vmax:\", style={'color': 'white'}),\n",
    "    dcc.Slider(\n",
    "        id='vmax-slider',\n",
    "        min=10,\n",
    "        max=50,\n",
    "        step=1,\n",
    "        value=32\n",
    "    ),\n",
    "    dcc.Graph(id='Velocidade(concentração)', figure=fig)\n",
    "])\n",
    "\n",
    "@app.callback(\n",
    "    Output('Velocidade(concentração)', 'figure'),\n",
    "    Input('km-slider', 'value'),\n",
    "    Input('vmax-slider', 'value')\n",
    ")\n",
    "\n",
    "def mudar_imagem(km, vmax):\n",
    "    s = np.linspace(0, 20, 500)\n",
    "    v = michaelis(s, km, vmax)\n",
    "\n",
    "    fig = go.Figure()\n",
    "\n",
    "    fig.add_trace(go.Scatter(\n",
    "        x=s,\n",
    "        y=v,\n",
    "        mode='lines',\n",
    "    ))\n",
    "\n",
    "    fig.update_layout(\n",
    "        title=\"Michaelis\",\n",
    "        xaxis=dict(range=[0, 20]),\n",
    "        yaxis=dict(range=[0, 50]),\n",
    "        xaxis_title=\"Concentração do Substrato (mol/L)\",\n",
    "        yaxis_title=\"Velocidade da reação (mol/L.s)\"\n",
    "    )\n",
    "\n",
    "    return fig\n",
    "\n",
    "if __name__ == '__main__':\n",
    "    app.run(debug=True, port=8020)   "
   ]
  },
  {
   "cell_type": "markdown",
   "id": "f8ec5705",
   "metadata": {},
   "source": [
    "# Grafico em função de temperatura e pH"
   ]
  },
  {
   "cell_type": "code",
   "execution_count": 12,
   "id": "869c6939",
   "metadata": {},
   "outputs": [
    {
     "data": {
      "text/html": [
       "\n",
       "        <iframe\n",
       "            width=\"100%\"\n",
       "            height=\"650\"\n",
       "            src=\"http://127.0.0.1:8043/\"\n",
       "            frameborder=\"0\"\n",
       "            allowfullscreen\n",
       "            \n",
       "        ></iframe>\n",
       "        "
      ],
      "text/plain": [
       "<IPython.lib.display.IFrame at 0x174a6da2420>"
      ]
     },
     "metadata": {},
     "output_type": "display_data"
    }
   ],
   "source": [
    "import numpy as np\n",
    "import plotly.graph_objects as go\n",
    "from dash import Dash, dcc, html, Input, Output\n",
    "import math\n",
    "\n",
    "\n",
    "def v0(S, T, pH, pKa, pKb, Vmax_ref, Ea, T_ref, Km_ref, deltaH):\n",
    "    term1 = 1 / (1 + 10**(pKa - pH) + 10**(pH - pKb))\n",
    "    exp1 = math.exp((-Ea*1000 / 8.314) * (1/(T+273) - 1/(T_ref+273)))\n",
    "    exp2 = math.exp((deltaH*1000 / 8.314) * (1/(T+273) - 1/(T_ref+273)))\n",
    "    \n",
    "    numerador = Vmax_ref * exp1 * S\n",
    "    denominador = Km_ref * exp2 + S\n",
    "    \n",
    "    return term1 * (numerador / denominador)\n",
    "\n",
    "s = np.linspace(0, 20, 500)\n",
    "v = v0(s, 25, 7.5, 6.5, 8, 32, 50, 25, 0.4, -20)\n",
    "\n",
    "fig = go.Figure()\n",
    "\n",
    "fig.add_trace(go.Scatter(\n",
    "    x=s,\n",
    "    y=v,\n",
    "    mode='lines',\n",
    "))\n",
    "\n",
    "fig.update_layout(\n",
    "    title=\"Michaelis\",\n",
    "    xaxis=dict(range=[0, 20]),\n",
    "    yaxis=dict(range=[0, 50]),\n",
    "    xaxis_title=\"Concentração do Substrato (mol/L)\",\n",
    "    yaxis_title=\"Velocidade da reação (mol/L.s)\"\n",
    ")\n",
    "\n",
    "app = Dash(__name__)\n",
    "\n",
    "app.layout = html.Div([\n",
    "    html.Label(\"Constante de dissociação do grupo ácido (pKa)\", style={'color': 'white'}),\n",
    "    dcc.Input(\n",
    "        id='input_pka',\n",
    "        type='number',\n",
    "        placeholder=\"Insira o valor de pKa\",\n",
    "        value='6.5'),\n",
    "\n",
    "    html.Br(),\n",
    "\n",
    "    html.Label(\"Constante de dissociação do grupo básico (pKb)\", style={'color': 'white'}),\n",
    "    dcc.Input(\n",
    "        id='input_pkb',\n",
    "        type='number',\n",
    "        placeholder=\"Insira o valor de pKb\",\n",
    "        value='8'),\n",
    "\n",
    "    html.Br(),\n",
    "\n",
    "    html.Label(\"Temperatura referêncial (T_ref)\", style={'color': 'white'}),\n",
    "    dcc.Input(\n",
    "        id='input_t_ref',\n",
    "        type='number',\n",
    "        placeholder=\"Insira o valor de T_ref\",\n",
    "        value='25'),\n",
    "\n",
    "    html.Br(),\n",
    "\n",
    "    html.Label(\"Velocidade máxima na temperatura referencial (Vmax_ref)\", style={'color': 'white'}),\n",
    "    dcc.Input(\n",
    "        id='input_vmax_ref',\n",
    "        type='number',\n",
    "        placeholder=\"Insira o valor de Vmax_ref\",\n",
    "        value='32'),\n",
    "\n",
    "    html.Br(),\n",
    "\n",
    "    html.Label(\"Constante de Michaelis na temperatura referencial (Km_ref)\", style={'color': 'white'}),\n",
    "    dcc.Input(\n",
    "        id='input_km_ref',\n",
    "        type='number',\n",
    "        placeholder=\"Insira o valor de Km_ref\",\n",
    "        value='0.4'),\n",
    "\n",
    "    html.Br(),\n",
    "\n",
    "    html.Label(\"Energia de ativação (Ea)\", style={'color': 'white'}),\n",
    "    dcc.Input(\n",
    "        id='input_ea',\n",
    "        type='number',\n",
    "        placeholder=\"Insira o valor de Ea\",\n",
    "        value='50'),\n",
    "\n",
    "    html.Br(),\n",
    "\n",
    "    html.Label(\"Variação de Entalpia (ΔH)\", style={'color': 'white'}),\n",
    "    dcc.Input(\n",
    "        id='input_deltah',\n",
    "        type='number',\n",
    "        placeholder=\"Insira o valor de ΔH\",\n",
    "        value='-20'),\n",
    "\n",
    "    html.Br(),\n",
    "\n",
    "    html.Label(\"Temperatura:\", style={'color': 'white'}),\n",
    "    dcc.Slider(\n",
    "        id='t-slider',\n",
    "        min=20,\n",
    "        max=50,\n",
    "        step=1,\n",
    "        value=25\n",
    "    ),\n",
    "\n",
    "    html.Br(),\n",
    "\n",
    "    html.Label(\"pH:\", style={'color': 'white'}),\n",
    "    dcc.Slider(\n",
    "        id='ph-slider',\n",
    "        min=5.5,\n",
    "        max=9.5,\n",
    "        step=0.1,\n",
    "        value=7\n",
    "    ),\n",
    "    dcc.Graph(id='Velocidade(concentração)', figure=fig)\n",
    "])\n",
    "\n",
    "@app.callback(\n",
    "    Output('Velocidade(concentração)', 'figure'),\n",
    "    Input('t-slider', 'value'),\n",
    "    Input('ph-slider', 'value'),\n",
    "    Input('input_pka', 'value'),\n",
    "    Input('input_pkb', 'value'),\n",
    "    Input('input_t_ref', 'value'),\n",
    "    Input('input_vmax_ref', 'value'),\n",
    "    Input('input_km_ref', 'value'),\n",
    "    Input('input_ea', 'value'),\n",
    "    Input('input_deltah', 'value'),\n",
    "\n",
    ")\n",
    "\n",
    "def mudar_imagem(t, ph, pka_inp, pkb_inp, t_inp, vmax_inp, km_inp, ea_inp, deltah_inp):\n",
    "\n",
    "    pKa = float(pka_inp)\n",
    "    pKb = float(pkb_inp)\n",
    "    Vmax_ref = float(vmax_inp)\n",
    "    Ea = float(ea_inp)\n",
    "    T_ref = float(t_inp)\n",
    "    Km_ref = float(km_inp)\n",
    "    deltaH = float(deltah_inp)\n",
    "\n",
    "    s = np.linspace(0, 20, 500)\n",
    "    v = v0(s, t, ph, pKa, pKb, Vmax_ref, Ea, T_ref, Km_ref, deltaH)\n",
    "\n",
    "    fig = go.Figure()\n",
    "\n",
    "    fig.add_trace(go.Scatter(\n",
    "        x=s,\n",
    "        y=v,\n",
    "        mode='lines',\n",
    "    ))\n",
    "\n",
    "    fig.update_layout(\n",
    "        title=\"Michaelis\",\n",
    "        xaxis=dict(range=[0, 20]),\n",
    "        yaxis=dict(range=[0, 50]),\n",
    "        xaxis_title=\"Concentração do Substrato (mol/L)\",\n",
    "        yaxis_title=\"Velocidade da reação (mol/L.s)\"\n",
    "    )\n",
    "\n",
    "    return fig\n",
    "\n",
    "if __name__ == '__main__':\n",
    "    app.run(debug=True, port=8043)   "
   ]
  },
  {
   "cell_type": "markdown",
   "id": "c608ebd7",
   "metadata": {},
   "source": [
    "# Em paralelo: concentração em função do tempo"
   ]
  },
  {
   "cell_type": "code",
   "execution_count": 13,
   "id": "7ef8e241",
   "metadata": {},
   "outputs": [
    {
     "data": {
      "application/vnd.plotly.v1+json": {
       "config": {
        "plotlyServerURL": "https://plot.ly"
       },
       "data": [
        {
         "hovertemplate": "Tempo (s)=%{x}<br>[S] (M)=%{y}<extra></extra>",
         "legendgroup": "",
         "line": {
          "color": "#636efa",
          "dash": "solid"
         },
         "marker": {
          "symbol": "circle"
         },
         "mode": "lines",
         "name": "",
         "orientation": "v",
         "showlegend": false,
         "type": "scatter",
         "x": {
          "bdata": "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",
          "dtype": "f8"
         },
         "xaxis": "x",
         "y": {
          "bdata": "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",
          "dtype": "f8"
         },
         "yaxis": "y"
        }
       ],
       "layout": {
        "legend": {
         "tracegroupgap": 0
        },
        "template": {
         "data": {
          "bar": [
           {
            "error_x": {
             "color": "#2a3f5f"
            },
            "error_y": {
             "color": "#2a3f5f"
            },
            "marker": {
             "line": {
              "color": "#E5ECF6",
              "width": 0.5
             },
             "pattern": {
              "fillmode": "overlay",
              "size": 10,
              "solidity": 0.2
             }
            },
            "type": "bar"
           }
          ],
          "barpolar": [
           {
            "marker": {
             "line": {
              "color": "#E5ECF6",
              "width": 0.5
             },
             "pattern": {
              "fillmode": "overlay",
              "size": 10,
              "solidity": 0.2
             }
            },
            "type": "barpolar"
           }
          ],
          "carpet": [
           {
            "aaxis": {
             "endlinecolor": "#2a3f5f",
             "gridcolor": "white",
             "linecolor": "white",
             "minorgridcolor": "white",
             "startlinecolor": "#2a3f5f"
            },
            "baxis": {
             "endlinecolor": "#2a3f5f",
             "gridcolor": "white",
             "linecolor": "white",
             "minorgridcolor": "white",
             "startlinecolor": "#2a3f5f"
            },
            "type": "carpet"
           }
          ],
          "choropleth": [
           {
            "colorbar": {
             "outlinewidth": 0,
             "ticks": ""
            },
            "type": "choropleth"
           }
          ],
          "contour": [
           {
            "colorbar": {
             "outlinewidth": 0,
             "ticks": ""
            },
            "colorscale": [
             [
              0,
              "#0d0887"
             ],
             [
              0.1111111111111111,
              "#46039f"
             ],
             [
              0.2222222222222222,
              "#7201a8"
             ],
             [
              0.3333333333333333,
              "#9c179e"
             ],
             [
              0.4444444444444444,
              "#bd3786"
             ],
             [
              0.5555555555555556,
              "#d8576b"
             ],
             [
              0.6666666666666666,
              "#ed7953"
             ],
             [
              0.7777777777777778,
              "#fb9f3a"
             ],
             [
              0.8888888888888888,
              "#fdca26"
             ],
             [
              1,
              "#f0f921"
             ]
            ],
            "type": "contour"
           }
          ],
          "contourcarpet": [
           {
            "colorbar": {
             "outlinewidth": 0,
             "ticks": ""
            },
            "type": "contourcarpet"
           }
          ],
          "heatmap": [
           {
            "colorbar": {
             "outlinewidth": 0,
             "ticks": ""
            },
            "colorscale": [
             [
              0,
              "#0d0887"
             ],
             [
              0.1111111111111111,
              "#46039f"
             ],
             [
              0.2222222222222222,
              "#7201a8"
             ],
             [
              0.3333333333333333,
              "#9c179e"
             ],
             [
              0.4444444444444444,
              "#bd3786"
             ],
             [
              0.5555555555555556,
              "#d8576b"
             ],
             [
              0.6666666666666666,
              "#ed7953"
             ],
             [
              0.7777777777777778,
              "#fb9f3a"
             ],
             [
              0.8888888888888888,
              "#fdca26"
             ],
             [
              1,
              "#f0f921"
             ]
            ],
            "type": "heatmap"
           }
          ],
          "histogram": [
           {
            "marker": {
             "pattern": {
              "fillmode": "overlay",
              "size": 10,
              "solidity": 0.2
             }
            },
            "type": "histogram"
           }
          ],
          "histogram2d": [
           {
            "colorbar": {
             "outlinewidth": 0,
             "ticks": ""
            },
            "colorscale": [
             [
              0,
              "#0d0887"
             ],
             [
              0.1111111111111111,
              "#46039f"
             ],
             [
              0.2222222222222222,
              "#7201a8"
             ],
             [
              0.3333333333333333,
              "#9c179e"
             ],
             [
              0.4444444444444444,
              "#bd3786"
             ],
             [
              0.5555555555555556,
              "#d8576b"
             ],
             [
              0.6666666666666666,
              "#ed7953"
             ],
             [
              0.7777777777777778,
              "#fb9f3a"
             ],
             [
              0.8888888888888888,
              "#fdca26"
             ],
             [
              1,
              "#f0f921"
             ]
            ],
            "type": "histogram2d"
           }
          ],
          "histogram2dcontour": [
           {
            "colorbar": {
             "outlinewidth": 0,
             "ticks": ""
            },
            "colorscale": [
             [
              0,
              "#0d0887"
             ],
             [
              0.1111111111111111,
              "#46039f"
             ],
             [
              0.2222222222222222,
              "#7201a8"
             ],
             [
              0.3333333333333333,
              "#9c179e"
             ],
             [
              0.4444444444444444,
              "#bd3786"
             ],
             [
              0.5555555555555556,
              "#d8576b"
             ],
             [
              0.6666666666666666,
              "#ed7953"
             ],
             [
              0.7777777777777778,
              "#fb9f3a"
             ],
             [
              0.8888888888888888,
              "#fdca26"
             ],
             [
              1,
              "#f0f921"
             ]
            ],
            "type": "histogram2dcontour"
           }
          ],
          "mesh3d": [
           {
            "colorbar": {
             "outlinewidth": 0,
             "ticks": ""
            },
            "type": "mesh3d"
           }
          ],
          "parcoords": [
           {
            "line": {
             "colorbar": {
              "outlinewidth": 0,
              "ticks": ""
             }
            },
            "type": "parcoords"
           }
          ],
          "pie": [
           {
            "automargin": true,
            "type": "pie"
           }
          ],
          "scatter": [
           {
            "fillpattern": {
             "fillmode": "overlay",
             "size": 10,
             "solidity": 0.2
            },
            "type": "scatter"
           }
          ],
          "scatter3d": [
           {
            "line": {
             "colorbar": {
              "outlinewidth": 0,
              "ticks": ""
             }
            },
            "marker": {
             "colorbar": {
              "outlinewidth": 0,
              "ticks": ""
             }
            },
            "type": "scatter3d"
           }
          ],
          "scattercarpet": [
           {
            "marker": {
             "colorbar": {
              "outlinewidth": 0,
              "ticks": ""
             }
            },
            "type": "scattercarpet"
           }
          ],
          "scattergeo": [
           {
            "marker": {
             "colorbar": {
              "outlinewidth": 0,
              "ticks": ""
             }
            },
            "type": "scattergeo"
           }
          ],
          "scattergl": [
           {
            "marker": {
             "colorbar": {
              "outlinewidth": 0,
              "ticks": ""
             }
            },
            "type": "scattergl"
           }
          ],
          "scattermap": [
           {
            "marker": {
             "colorbar": {
              "outlinewidth": 0,
              "ticks": ""
             }
            },
            "type": "scattermap"
           }
          ],
          "scattermapbox": [
           {
            "marker": {
             "colorbar": {
              "outlinewidth": 0,
              "ticks": ""
             }
            },
            "type": "scattermapbox"
           }
          ],
          "scatterpolar": [
           {
            "marker": {
             "colorbar": {
              "outlinewidth": 0,
              "ticks": ""
             }
            },
            "type": "scatterpolar"
           }
          ],
          "scatterpolargl": [
           {
            "marker": {
             "colorbar": {
              "outlinewidth": 0,
              "ticks": ""
             }
            },
            "type": "scatterpolargl"
           }
          ],
          "scatterternary": [
           {
            "marker": {
             "colorbar": {
              "outlinewidth": 0,
              "ticks": ""
             }
            },
            "type": "scatterternary"
           }
          ],
          "surface": [
           {
            "colorbar": {
             "outlinewidth": 0,
             "ticks": ""
            },
            "colorscale": [
             [
              0,
              "#0d0887"
             ],
             [
              0.1111111111111111,
              "#46039f"
             ],
             [
              0.2222222222222222,
              "#7201a8"
             ],
             [
              0.3333333333333333,
              "#9c179e"
             ],
             [
              0.4444444444444444,
              "#bd3786"
             ],
             [
              0.5555555555555556,
              "#d8576b"
             ],
             [
              0.6666666666666666,
              "#ed7953"
             ],
             [
              0.7777777777777778,
              "#fb9f3a"
             ],
             [
              0.8888888888888888,
              "#fdca26"
             ],
             [
              1,
              "#f0f921"
             ]
            ],
            "type": "surface"
           }
          ],
          "table": [
           {
            "cells": {
             "fill": {
              "color": "#EBF0F8"
             },
             "line": {
              "color": "white"
             }
            },
            "header": {
             "fill": {
              "color": "#C8D4E3"
             },
             "line": {
              "color": "white"
             }
            },
            "type": "table"
           }
          ]
         },
         "layout": {
          "annotationdefaults": {
           "arrowcolor": "#2a3f5f",
           "arrowhead": 0,
           "arrowwidth": 1
          },
          "autotypenumbers": "strict",
          "coloraxis": {
           "colorbar": {
            "outlinewidth": 0,
            "ticks": ""
           }
          },
          "colorscale": {
           "diverging": [
            [
             0,
             "#8e0152"
            ],
            [
             0.1,
             "#c51b7d"
            ],
            [
             0.2,
             "#de77ae"
            ],
            [
             0.3,
             "#f1b6da"
            ],
            [
             0.4,
             "#fde0ef"
            ],
            [
             0.5,
             "#f7f7f7"
            ],
            [
             0.6,
             "#e6f5d0"
            ],
            [
             0.7,
             "#b8e186"
            ],
            [
             0.8,
             "#7fbc41"
            ],
            [
             0.9,
             "#4d9221"
            ],
            [
             1,
             "#276419"
            ]
           ],
           "sequential": [
            [
             0,
             "#0d0887"
            ],
            [
             0.1111111111111111,
             "#46039f"
            ],
            [
             0.2222222222222222,
             "#7201a8"
            ],
            [
             0.3333333333333333,
             "#9c179e"
            ],
            [
             0.4444444444444444,
             "#bd3786"
            ],
            [
             0.5555555555555556,
             "#d8576b"
            ],
            [
             0.6666666666666666,
             "#ed7953"
            ],
            [
             0.7777777777777778,
             "#fb9f3a"
            ],
            [
             0.8888888888888888,
             "#fdca26"
            ],
            [
             1,
             "#f0f921"
            ]
           ],
           "sequentialminus": [
            [
             0,
             "#0d0887"
            ],
            [
             0.1111111111111111,
             "#46039f"
            ],
            [
             0.2222222222222222,
             "#7201a8"
            ],
            [
             0.3333333333333333,
             "#9c179e"
            ],
            [
             0.4444444444444444,
             "#bd3786"
            ],
            [
             0.5555555555555556,
             "#d8576b"
            ],
            [
             0.6666666666666666,
             "#ed7953"
            ],
            [
             0.7777777777777778,
             "#fb9f3a"
            ],
            [
             0.8888888888888888,
             "#fdca26"
            ],
            [
             1,
             "#f0f921"
            ]
           ]
          },
          "colorway": [
           "#636efa",
           "#EF553B",
           "#00cc96",
           "#ab63fa",
           "#FFA15A",
           "#19d3f3",
           "#FF6692",
           "#B6E880",
           "#FF97FF",
           "#FECB52"
          ],
          "font": {
           "color": "#2a3f5f"
          },
          "geo": {
           "bgcolor": "white",
           "lakecolor": "white",
           "landcolor": "#E5ECF6",
           "showlakes": true,
           "showland": true,
           "subunitcolor": "white"
          },
          "hoverlabel": {
           "align": "left"
          },
          "hovermode": "closest",
          "mapbox": {
           "style": "light"
          },
          "paper_bgcolor": "white",
          "plot_bgcolor": "#E5ECF6",
          "polar": {
           "angularaxis": {
            "gridcolor": "white",
            "linecolor": "white",
            "ticks": ""
           },
           "bgcolor": "#E5ECF6",
           "radialaxis": {
            "gridcolor": "white",
            "linecolor": "white",
            "ticks": ""
           }
          },
          "scene": {
           "xaxis": {
            "backgroundcolor": "#E5ECF6",
            "gridcolor": "white",
            "gridwidth": 2,
            "linecolor": "white",
            "showbackground": true,
            "ticks": "",
            "zerolinecolor": "white"
           },
           "yaxis": {
            "backgroundcolor": "#E5ECF6",
            "gridcolor": "white",
            "gridwidth": 2,
            "linecolor": "white",
            "showbackground": true,
            "ticks": "",
            "zerolinecolor": "white"
           },
           "zaxis": {
            "backgroundcolor": "#E5ECF6",
            "gridcolor": "white",
            "gridwidth": 2,
            "linecolor": "white",
            "showbackground": true,
            "ticks": "",
            "zerolinecolor": "white"
           }
          },
          "shapedefaults": {
           "line": {
            "color": "#2a3f5f"
           }
          },
          "ternary": {
           "aaxis": {
            "gridcolor": "white",
            "linecolor": "white",
            "ticks": ""
           },
           "baxis": {
            "gridcolor": "white",
            "linecolor": "white",
            "ticks": ""
           },
           "bgcolor": "#E5ECF6",
           "caxis": {
            "gridcolor": "white",
            "linecolor": "white",
            "ticks": ""
           }
          },
          "title": {
           "x": 0.05
          },
          "xaxis": {
           "automargin": true,
           "gridcolor": "white",
           "linecolor": "white",
           "ticks": "",
           "title": {
            "standoff": 15
           },
           "zerolinecolor": "white",
           "zerolinewidth": 2
          },
          "yaxis": {
           "automargin": true,
           "gridcolor": "white",
           "linecolor": "white",
           "ticks": "",
           "title": {
            "standoff": 15
           },
           "zerolinecolor": "white",
           "zerolinewidth": 2
          }
         }
        },
        "title": {
         "text": "Variação de [S] de acordo com o tempo"
        },
        "xaxis": {
         "anchor": "y",
         "domain": [
          0,
          1
         ],
         "range": [
          0,
          0.01
         ],
         "title": {
          "text": "Tempo (s)"
         }
        },
        "yaxis": {
         "anchor": "x",
         "domain": [
          0,
          1
         ],
         "range": [
          0,
          1
         ],
         "title": {
          "text": "[S] (M)"
         }
        }
       }
      }
     },
     "metadata": {},
     "output_type": "display_data"
    }
   ],
   "source": [
    "import numpy as np\n",
    "import plotly.express as px\n",
    "from math import log\n",
    "\n",
    "km = 10**(-1)\n",
    "v_max = 32\n",
    "s0 = 0.5\n",
    "\n",
    "# Gerar valores de [S] de s0 até 0.001 - mais próximo de 0\n",
    "s_final = np.linspace(s0, 0.001, 500)\n",
    "\n",
    "delta_t = (km*(s0 - s_final) + km *np.log(s0 /s_final))/ v_max\n",
    "\n",
    "fig = px.line(x=delta_t, y=s_final,\n",
    "              labels={'x': 'Tempo (s)', 'y': '[S] (M)'},\n",
    "              title=\"Variação de [S] de acordo com o tempo\")\n",
    "\n",
    "fig.update_layout(xaxis = dict(range=[0,0.01]), yaxis = dict(range = [0, 1]))\n",
    "\n",
    "fig.show()\n"
   ]
  },
  {
   "cell_type": "code",
   "execution_count": null,
   "id": "2ae01202",
   "metadata": {},
   "outputs": [],
   "source": []
  }
 ],
 "metadata": {
  "kernelspec": {
   "display_name": "Python 3",
   "language": "python",
   "name": "python3"
  },
  "language_info": {
   "codemirror_mode": {
    "name": "ipython",
    "version": 3
   },
   "file_extension": ".py",
   "mimetype": "text/x-python",
   "name": "python",
   "nbconvert_exporter": "python",
   "pygments_lexer": "ipython3",
   "version": "3.12.7"
  }
 },
 "nbformat": 4,
 "nbformat_minor": 5
}
