{
 "cells": [
  {
   "cell_type": "markdown",
   "id": "6163e123",
   "metadata": {},
   "source": [
    "# Gráfico Função de Michaelis"
   ]
  },
  {
   "cell_type": "code",
   "execution_count": null,
   "id": "9d01943e",
   "metadata": {},
   "outputs": [
    {
     "data": {
      "application/vnd.plotly.v1+json": {
       "config": {
        "plotlyServerURL": "https://plot.ly"
       },
       "data": [
        {
         "mode": "lines",
         "type": "scatter",
         "x": {
          "bdata": "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",
          "dtype": "f8"
         },
         "y": {
          "bdata": "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",
          "dtype": "f8"
         }
        }
       ],
       "layout": {
        "template": {
         "data": {
          "bar": [
           {
            "error_x": {
             "color": "#2a3f5f"
            },
            "error_y": {
             "color": "#2a3f5f"
            },
            "marker": {
             "line": {
              "color": "#E5ECF6",
              "width": 0.5
             },
             "pattern": {
              "fillmode": "overlay",
              "size": 10,
              "solidity": 0.2
             }
            },
            "type": "bar"
           }
          ],
          "barpolar": [
           {
            "marker": {
             "line": {
              "color": "#E5ECF6",
              "width": 0.5
             },
             "pattern": {
              "fillmode": "overlay",
              "size": 10,
              "solidity": 0.2
             }
            },
            "type": "barpolar"
           }
          ],
          "carpet": [
           {
            "aaxis": {
             "endlinecolor": "#2a3f5f",
             "gridcolor": "white",
             "linecolor": "white",
             "minorgridcolor": "white",
             "startlinecolor": "#2a3f5f"
            },
            "baxis": {
             "endlinecolor": "#2a3f5f",
             "gridcolor": "white",
             "linecolor": "white",
             "minorgridcolor": "white",
             "startlinecolor": "#2a3f5f"
            },
            "type": "carpet"
           }
          ],
          "choropleth": [
           {
            "colorbar": {
             "outlinewidth": 0,
             "ticks": ""
            },
            "type": "choropleth"
           }
          ],
          "contour": [
           {
            "colorbar": {
             "outlinewidth": 0,
             "ticks": ""
            },
            "colorscale": [
             [
              0,
              "#0d0887"
             ],
             [
              0.1111111111111111,
              "#46039f"
             ],
             [
              0.2222222222222222,
              "#7201a8"
             ],
             [
              0.3333333333333333,
              "#9c179e"
             ],
             [
              0.4444444444444444,
              "#bd3786"
             ],
             [
              0.5555555555555556,
              "#d8576b"
             ],
             [
              0.6666666666666666,
              "#ed7953"
             ],
             [
              0.7777777777777778,
              "#fb9f3a"
             ],
             [
              0.8888888888888888,
              "#fdca26"
             ],
             [
              1,
              "#f0f921"
             ]
            ],
            "type": "contour"
           }
          ],
          "contourcarpet": [
           {
            "colorbar": {
             "outlinewidth": 0,
             "ticks": ""
            },
            "type": "contourcarpet"
           }
          ],
          "heatmap": [
           {
            "colorbar": {
             "outlinewidth": 0,
             "ticks": ""
            },
            "colorscale": [
             [
              0,
              "#0d0887"
             ],
             [
              0.1111111111111111,
              "#46039f"
             ],
             [
              0.2222222222222222,
              "#7201a8"
             ],
             [
              0.3333333333333333,
              "#9c179e"
             ],
             [
              0.4444444444444444,
              "#bd3786"
             ],
             [
              0.5555555555555556,
              "#d8576b"
             ],
             [
              0.6666666666666666,
              "#ed7953"
             ],
             [
              0.7777777777777778,
              "#fb9f3a"
             ],
             [
              0.8888888888888888,
              "#fdca26"
             ],
             [
              1,
              "#f0f921"
             ]
            ],
            "type": "heatmap"
           }
          ],
          "histogram": [
           {
            "marker": {
             "pattern": {
              "fillmode": "overlay",
              "size": 10,
              "solidity": 0.2
             }
            },
            "type": "histogram"
           }
          ],
          "histogram2d": [
           {
            "colorbar": {
             "outlinewidth": 0,
             "ticks": ""
            },
            "colorscale": [
             [
              0,
              "#0d0887"
             ],
             [
              0.1111111111111111,
              "#46039f"
             ],
             [
              0.2222222222222222,
              "#7201a8"
             ],
             [
              0.3333333333333333,
              "#9c179e"
             ],
             [
              0.4444444444444444,
              "#bd3786"
             ],
             [
              0.5555555555555556,
              "#d8576b"
             ],
             [
              0.6666666666666666,
              "#ed7953"
             ],
             [
              0.7777777777777778,
              "#fb9f3a"
             ],
             [
              0.8888888888888888,
              "#fdca26"
             ],
             [
              1,
              "#f0f921"
             ]
            ],
            "type": "histogram2d"
           }
          ],
          "histogram2dcontour": [
           {
            "colorbar": {
             "outlinewidth": 0,
             "ticks": ""
            },
            "colorscale": [
             [
              0,
              "#0d0887"
             ],
             [
              0.1111111111111111,
              "#46039f"
             ],
             [
              0.2222222222222222,
              "#7201a8"
             ],
             [
              0.3333333333333333,
              "#9c179e"
             ],
             [
              0.4444444444444444,
              "#bd3786"
             ],
             [
              0.5555555555555556,
              "#d8576b"
             ],
             [
              0.6666666666666666,
              "#ed7953"
             ],
             [
              0.7777777777777778,
              "#fb9f3a"
             ],
             [
              0.8888888888888888,
              "#fdca26"
             ],
             [
              1,
              "#f0f921"
             ]
            ],
            "type": "histogram2dcontour"
           }
          ],
          "mesh3d": [
           {
            "colorbar": {
             "outlinewidth": 0,
             "ticks": ""
            },
            "type": "mesh3d"
           }
          ],
          "parcoords": [
           {
            "line": {
             "colorbar": {
              "outlinewidth": 0,
              "ticks": ""
             }
            },
            "type": "parcoords"
           }
          ],
          "pie": [
           {
            "automargin": true,
            "type": "pie"
           }
          ],
          "scatter": [
           {
            "fillpattern": {
             "fillmode": "overlay",
             "size": 10,
             "solidity": 0.2
            },
            "type": "scatter"
           }
          ],
          "scatter3d": [
           {
            "line": {
             "colorbar": {
              "outlinewidth": 0,
              "ticks": ""
             }
            },
            "marker": {
             "colorbar": {
              "outlinewidth": 0,
              "ticks": ""
             }
            },
            "type": "scatter3d"
           }
          ],
          "scattercarpet": [
           {
            "marker": {
             "colorbar": {
              "outlinewidth": 0,
              "ticks": ""
             }
            },
            "type": "scattercarpet"
           }
          ],
          "scattergeo": [
           {
            "marker": {
             "colorbar": {
              "outlinewidth": 0,
              "ticks": ""
             }
            },
            "type": "scattergeo"
           }
          ],
          "scattergl": [
           {
            "marker": {
             "colorbar": {
              "outlinewidth": 0,
              "ticks": ""
             }
            },
            "type": "scattergl"
           }
          ],
          "scattermap": [
           {
            "marker": {
             "colorbar": {
              "outlinewidth": 0,
              "ticks": ""
             }
            },
            "type": "scattermap"
           }
          ],
          "scattermapbox": [
           {
            "marker": {
             "colorbar": {
              "outlinewidth": 0,
              "ticks": ""
             }
            },
            "type": "scattermapbox"
           }
          ],
          "scatterpolar": [
           {
            "marker": {
             "colorbar": {
              "outlinewidth": 0,
              "ticks": ""
             }
            },
            "type": "scatterpolar"
           }
          ],
          "scatterpolargl": [
           {
            "marker": {
             "colorbar": {
              "outlinewidth": 0,
              "ticks": ""
             }
            },
            "type": "scatterpolargl"
           }
          ],
          "scatterternary": [
           {
            "marker": {
             "colorbar": {
              "outlinewidth": 0,
              "ticks": ""
             }
            },
            "type": "scatterternary"
           }
          ],
          "surface": [
           {
            "colorbar": {
             "outlinewidth": 0,
             "ticks": ""
            },
            "colorscale": [
             [
              0,
              "#0d0887"
             ],
             [
              0.1111111111111111,
              "#46039f"
             ],
             [
              0.2222222222222222,
              "#7201a8"
             ],
             [
              0.3333333333333333,
              "#9c179e"
             ],
             [
              0.4444444444444444,
              "#bd3786"
             ],
             [
              0.5555555555555556,
              "#d8576b"
             ],
             [
              0.6666666666666666,
              "#ed7953"
             ],
             [
              0.7777777777777778,
              "#fb9f3a"
             ],
             [
              0.8888888888888888,
              "#fdca26"
             ],
             [
              1,
              "#f0f921"
             ]
            ],
            "type": "surface"
           }
          ],
          "table": [
           {
            "cells": {
             "fill": {
              "color": "#EBF0F8"
             },
             "line": {
              "color": "white"
             }
            },
            "header": {
             "fill": {
              "color": "#C8D4E3"
             },
             "line": {
              "color": "white"
             }
            },
            "type": "table"
           }
          ]
         },
         "layout": {
          "annotationdefaults": {
           "arrowcolor": "#2a3f5f",
           "arrowhead": 0,
           "arrowwidth": 1
          },
          "autotypenumbers": "strict",
          "coloraxis": {
           "colorbar": {
            "outlinewidth": 0,
            "ticks": ""
           }
          },
          "colorscale": {
           "diverging": [
            [
             0,
             "#8e0152"
            ],
            [
             0.1,
             "#c51b7d"
            ],
            [
             0.2,
             "#de77ae"
            ],
            [
             0.3,
             "#f1b6da"
            ],
            [
             0.4,
             "#fde0ef"
            ],
            [
             0.5,
             "#f7f7f7"
            ],
            [
             0.6,
             "#e6f5d0"
            ],
            [
             0.7,
             "#b8e186"
            ],
            [
             0.8,
             "#7fbc41"
            ],
            [
             0.9,
             "#4d9221"
            ],
            [
             1,
             "#276419"
            ]
           ],
           "sequential": [
            [
             0,
             "#0d0887"
            ],
            [
             0.1111111111111111,
             "#46039f"
            ],
            [
             0.2222222222222222,
             "#7201a8"
            ],
            [
             0.3333333333333333,
             "#9c179e"
            ],
            [
             0.4444444444444444,
             "#bd3786"
            ],
            [
             0.5555555555555556,
             "#d8576b"
            ],
            [
             0.6666666666666666,
             "#ed7953"
            ],
            [
             0.7777777777777778,
             "#fb9f3a"
            ],
            [
             0.8888888888888888,
             "#fdca26"
            ],
            [
             1,
             "#f0f921"
            ]
           ],
           "sequentialminus": [
            [
             0,
             "#0d0887"
            ],
            [
             0.1111111111111111,
             "#46039f"
            ],
            [
             0.2222222222222222,
             "#7201a8"
            ],
            [
             0.3333333333333333,
             "#9c179e"
            ],
            [
             0.4444444444444444,
             "#bd3786"
            ],
            [
             0.5555555555555556,
             "#d8576b"
            ],
            [
             0.6666666666666666,
             "#ed7953"
            ],
            [
             0.7777777777777778,
             "#fb9f3a"
            ],
            [
             0.8888888888888888,
             "#fdca26"
            ],
            [
             1,
             "#f0f921"
            ]
           ]
          },
          "colorway": [
           "#636efa",
           "#EF553B",
           "#00cc96",
           "#ab63fa",
           "#FFA15A",
           "#19d3f3",
           "#FF6692",
           "#B6E880",
           "#FF97FF",
           "#FECB52"
          ],
          "font": {
           "color": "#2a3f5f"
          },
          "geo": {
           "bgcolor": "white",
           "lakecolor": "white",
           "landcolor": "#E5ECF6",
           "showlakes": true,
           "showland": true,
           "subunitcolor": "white"
          },
          "hoverlabel": {
           "align": "left"
          },
          "hovermode": "closest",
          "mapbox": {
           "style": "light"
          },
          "paper_bgcolor": "white",
          "plot_bgcolor": "#E5ECF6",
          "polar": {
           "angularaxis": {
            "gridcolor": "white",
            "linecolor": "white",
            "ticks": ""
           },
           "bgcolor": "#E5ECF6",
           "radialaxis": {
            "gridcolor": "white",
            "linecolor": "white",
            "ticks": ""
           }
          },
          "scene": {
           "xaxis": {
            "backgroundcolor": "#E5ECF6",
            "gridcolor": "white",
            "gridwidth": 2,
            "linecolor": "white",
            "showbackground": true,
            "ticks": "",
            "zerolinecolor": "white"
           },
           "yaxis": {
            "backgroundcolor": "#E5ECF6",
            "gridcolor": "white",
            "gridwidth": 2,
            "linecolor": "white",
            "showbackground": true,
            "ticks": "",
            "zerolinecolor": "white"
           },
           "zaxis": {
            "backgroundcolor": "#E5ECF6",
            "gridcolor": "white",
            "gridwidth": 2,
            "linecolor": "white",
            "showbackground": true,
            "ticks": "",
            "zerolinecolor": "white"
           }
          },
          "shapedefaults": {
           "line": {
            "color": "#2a3f5f"
           }
          },
          "ternary": {
           "aaxis": {
            "gridcolor": "white",
            "linecolor": "white",
            "ticks": ""
           },
           "baxis": {
            "gridcolor": "white",
            "linecolor": "white",
            "ticks": ""
           },
           "bgcolor": "#E5ECF6",
           "caxis": {
            "gridcolor": "white",
            "linecolor": "white",
            "ticks": ""
           }
          },
          "title": {
           "x": 0.05
          },
          "xaxis": {
           "automargin": true,
           "gridcolor": "white",
           "linecolor": "white",
           "ticks": "",
           "title": {
            "standoff": 15
           },
           "zerolinecolor": "white",
           "zerolinewidth": 2
          },
          "yaxis": {
           "automargin": true,
           "gridcolor": "white",
           "linecolor": "white",
           "ticks": "",
           "title": {
            "standoff": 15
           },
           "zerolinecolor": "white",
           "zerolinewidth": 2
          }
         }
        },
        "title": {
         "text": "Michaelis"
        },
        "xaxis": {
         "title": {
          "text": "Concentração do Substrato (mol/L)"
         }
        },
        "yaxis": {
         "title": {
          "text": "Velocidade da reação (mol/L.s)"
         }
        }
       }
      }
     },
     "metadata": {},
     "output_type": "display_data"
    }
   ],
   "source": [
    "import numpy as np\n",
    "import plotly.graph_objects as go\n",
    "\n",
    "def michaelis (conc_subst, km, vmax):\n",
    "    v_reaction = (vmax*conc_subst)/(km+conc_subst)\n",
    "    return v_reaction\n",
    "\n",
    "km = 0.38\n",
    "vmax = 32\n",
    "\n",
    "s = np.linspace(0, 20, 500)\n",
    "v = michaelis(s, km, vmax)\n",
    "\n",
    "fig = go.Figure()\n",
    "\n",
    "fig.add_trace(go.Scatter(\n",
    "    x=s,\n",
    "    y=v,\n",
    "    mode='lines',\n",
    "))\n",
    "\n",
    "fig.update_layout(\n",
    "    title=\"Michaelis\",\n",
    "    xaxis_title=\"Concentração do Substrato (mol/L)\",\n",
    "    yaxis_title=\"Velocidade da reação (mol/L.s)\"\n",
    ")\n",
    "\n",
    "fig.show()"
   ]
  },
  {
   "cell_type": "markdown",
   "id": "ee0aaccf",
   "metadata": {},
   "source": [
    "# Gráfico Função de Michaelis (Km e Vmáx ajustável)"
   ]
  },
  {
   "cell_type": "code",
   "execution_count": 3,
   "id": "a4ebc063",
   "metadata": {},
   "outputs": [
    {
     "data": {
      "text/html": [
       "\n",
       "        <iframe\n",
       "            width=\"100%\"\n",
       "            height=\"650\"\n",
       "            src=\"http://127.0.0.1:8020/\"\n",
       "            frameborder=\"0\"\n",
       "            allowfullscreen\n",
       "            \n",
       "        ></iframe>\n",
       "        "
      ],
      "text/plain": [
       "<IPython.lib.display.IFrame at 0x18f7b4d4fb0>"
      ]
     },
     "metadata": {},
     "output_type": "display_data"
    }
   ],
   "source": [
    "import numpy as np\n",
    "import plotly.graph_objects as go\n",
    "from dash import Dash, dcc, html, Input, Output\n",
    "\n",
    "def michaelis (conc_subst, km, vmax):\n",
    "    v_reaction = (vmax*conc_subst)/(km+conc_subst)\n",
    "    return v_reaction\n",
    "\n",
    "s = np.linspace(0, 20, 500)\n",
    "v = michaelis(s, 0.4, 32)\n",
    "\n",
    "fig = go.Figure()\n",
    "\n",
    "fig.add_trace(go.Scatter(\n",
    "    x=s,\n",
    "    y=v,\n",
    "    mode='lines',\n",
    "))\n",
    "\n",
    "fig.update_layout(\n",
    "    title=\"Michaelis\",\n",
    "    xaxis=dict(range=[0, 20]),\n",
    "    yaxis=dict(range=[0, 50]),\n",
    "    xaxis_title=\"Concentração do Substrato (mol/L)\",\n",
    "    yaxis_title=\"Velocidade da reação (mol/L.s)\"\n",
    ")\n",
    "\n",
    "app = Dash(__name__)\n",
    "\n",
    "app.layout = html.Div([\n",
    "    html.Label(\"Km:\", style={'color': 'white'}),\n",
    "    dcc.Slider(\n",
    "        id='km-slider',\n",
    "        min=0.1,\n",
    "        max=2.0,\n",
    "        step=0.1,\n",
    "        value=0.4\n",
    "    ),\n",
    "\n",
    "    html.Br(),\n",
    "\n",
    "    html.Label(\"Vmax:\", style={'color': 'white'}),\n",
    "    dcc.Slider(\n",
    "        id='vmax-slider',\n",
    "        min=10,\n",
    "        max=50,\n",
    "        step=1,\n",
    "        value=32\n",
    "    ),\n",
    "    dcc.Graph(id='Velocidade(concentração)', figure=fig)\n",
    "])\n",
    "\n",
    "@app.callback(\n",
    "    Output('Velocidade(concentração)', 'figure'),\n",
    "    Input('km-slider', 'value'),\n",
    "    Input('vmax-slider', 'value')\n",
    ")\n",
    "\n",
    "def mudar_imagem(km, vmax):\n",
    "    s = np.linspace(0, 20, 500)\n",
    "    v = michaelis(s, km, vmax)\n",
    "\n",
    "    fig = go.Figure()\n",
    "\n",
    "    fig.add_trace(go.Scatter(\n",
    "        x=s,\n",
    "        y=v,\n",
    "        mode='lines',\n",
    "    ))\n",
    "\n",
    "    fig.update_layout(\n",
    "        title=\"Michaelis\",\n",
    "        xaxis=dict(range=[0, 20]),\n",
    "        yaxis=dict(range=[0, 50]),\n",
    "        xaxis_title=\"Concentração do Substrato (mol/L)\",\n",
    "        yaxis_title=\"Velocidade da reação (mol/L.s)\"\n",
    "    )\n",
    "\n",
    "    return fig\n",
    "\n",
    "if __name__ == '__main__':\n",
    "    app.run(debug=True, port=8020)   "
   ]
  },
  {
   "cell_type": "markdown",
   "id": "f8ec5705",
   "metadata": {},
   "source": [
    "# Grafico em função de temperatura e pH"
   ]
  },
  {
   "cell_type": "code",
   "execution_count": 1,
   "id": "869c6939",
   "metadata": {},
   "outputs": [
    {
     "data": {
      "text/html": [
       "\n",
       "        <iframe\n",
       "            width=\"100%\"\n",
       "            height=\"650\"\n",
       "            src=\"http://127.0.0.1:8043/\"\n",
       "            frameborder=\"0\"\n",
       "            allowfullscreen\n",
       "            \n",
       "        ></iframe>\n",
       "        "
      ],
      "text/plain": [
       "<IPython.lib.display.IFrame at 0x26df8d09250>"
      ]
     },
     "metadata": {},
     "output_type": "display_data"
    }
   ],
   "source": [
    "import numpy as np\n",
    "import plotly.graph_objects as go\n",
    "from dash import Dash, dcc, html, Input, Output\n",
    "import math\n",
    "\n",
    "\n",
    "def v0(S, T, pH, pKa, pKb, Vmax_ref, Ea, T_ref, Km_ref, deltaH):\n",
    "    term1 = 1 / (1 + 10**(pKa - pH) + 10**(pH - pKb))\n",
    "    exp1 = math.exp((-Ea*1000 / 8.314) * (1/(T+273) - 1/(T_ref+273)))\n",
    "    exp2 = math.exp((deltaH*1000 / 8.314) * (1/(T+273) - 1/(T_ref+273)))\n",
    "    \n",
    "    numerador = Vmax_ref * exp1 * S\n",
    "    denominador = Km_ref * exp2 + S\n",
    "    \n",
    "    return term1 * (numerador / denominador)\n",
    "\n",
    "s = np.linspace(0, 20, 500)\n",
    "v = v0(s, 25, 7.5, 6.5, 8, 32, 50, 25, 0.4, -20)\n",
    "\n",
    "fig = go.Figure()\n",
    "\n",
    "fig.add_trace(go.Scatter(\n",
    "    x=s,\n",
    "    y=v,\n",
    "    mode='lines',\n",
    "))\n",
    "\n",
    "fig.update_layout(\n",
    "    title=\"Michaelis\",\n",
    "    xaxis=dict(range=[0, 20]),\n",
    "    yaxis=dict(range=[0, 50]),\n",
    "    xaxis_title=\"Concentração do Substrato (mol/L)\",\n",
    "    yaxis_title=\"Velocidade da reação (mol/L.s)\"\n",
    ")\n",
    "\n",
    "app = Dash(__name__)\n",
    "\n",
    "app.layout = html.Div([\n",
    "    html.Label(\"Constante de dissociação do grupo ácido (pKa)\", style={'color': 'white'}),\n",
    "    dcc.Input(\n",
    "        id='input_pka',\n",
    "        type='number',\n",
    "        placeholder=\"Insira o valor de pKa\",\n",
    "        value='6.5'),\n",
    "\n",
    "    html.Br(),\n",
    "\n",
    "    html.Label(\"Constante de dissociação do grupo básico (pKb)\", style={'color': 'white'}),\n",
    "    dcc.Input(\n",
    "        id='input_pkb',\n",
    "        type='number',\n",
    "        placeholder=\"Insira o valor de pKb\",\n",
    "        value='8'),\n",
    "\n",
    "    html.Br(),\n",
    "\n",
    "    html.Label(\"Temperatura referêncial (T_ref)\", style={'color': 'white'}),\n",
    "    dcc.Input(\n",
    "        id='input_t_ref',\n",
    "        type='number',\n",
    "        placeholder=\"Insira o valor de T_ref\",\n",
    "        value='25'),\n",
    "\n",
    "    html.Br(),\n",
    "\n",
    "    html.Label(\"Velocidade máxima na temperatura referencial (Vmax_ref)\", style={'color': 'white'}),\n",
    "    dcc.Input(\n",
    "        id='input_vmax_ref',\n",
    "        type='number',\n",
    "        placeholder=\"Insira o valor de Vmax_ref\",\n",
    "        value='32'),\n",
    "\n",
    "    html.Br(),\n",
    "\n",
    "    html.Label(\"Constante de Michaelis na temperatura referencial (Km_ref)\", style={'color': 'white'}),\n",
    "    dcc.Input(\n",
    "        id='input_km_ref',\n",
    "        type='number',\n",
    "        placeholder=\"Insira o valor de Km_ref\",\n",
    "        value='0.4'),\n",
    "\n",
    "    html.Br(),\n",
    "\n",
    "    html.Label(\"Energia de ativação (Ea)\", style={'color': 'white'}),\n",
    "    dcc.Input(\n",
    "        id='input_ea',\n",
    "        type='number',\n",
    "        placeholder=\"Insira o valor de Ea\",\n",
    "        value='50'),\n",
    "\n",
    "    html.Br(),\n",
    "\n",
    "    html.Label(\"Variação de Entalpia (ΔH)\", style={'color': 'white'}),\n",
    "    dcc.Input(\n",
    "        id='input_deltah',\n",
    "        type='number',\n",
    "        placeholder=\"Insira o valor de ΔH\",\n",
    "        value='-20'),\n",
    "\n",
    "    html.Br(),\n",
    "\n",
    "    html.Label(\"Temperatura:\", style={'color': 'white'}),\n",
    "    dcc.Slider(\n",
    "        id='t-slider',\n",
    "        min=20,\n",
    "        max=50,\n",
    "        step=1,\n",
    "        value=25\n",
    "    ),\n",
    "\n",
    "    html.Br(),\n",
    "\n",
    "    html.Label(\"pH:\", style={'color': 'white'}),\n",
    "    dcc.Slider(\n",
    "        id='ph-slider',\n",
    "        min=5.5,\n",
    "        max=9.5,\n",
    "        step=0.1,\n",
    "        value=7\n",
    "    ),\n",
    "    dcc.Graph(id='Velocidade(concentração)', figure=fig)\n",
    "])\n",
    "\n",
    "@app.callback(\n",
    "    Output('Velocidade(concentração)', 'figure'),\n",
    "    Input('t-slider', 'value'),\n",
    "    Input('ph-slider', 'value'),\n",
    "    Input('input_pka', 'value'),\n",
    "    Input('input_pkb', 'value'),\n",
    "    Input('input_t_ref', 'value'),\n",
    "    Input('input_vmax_ref', 'value'),\n",
    "    Input('input_km_ref', 'value'),\n",
    "    Input('input_ea', 'value'),\n",
    "    Input('input_deltah', 'value'),\n",
    "\n",
    ")\n",
    "\n",
    "def mudar_imagem(t, ph, pka_inp, pkb_inp, t_inp, vmax_inp, km_inp, ea_inp, deltah_inp):\n",
    "\n",
    "    pKa = float(pka_inp)\n",
    "    pKb = float(pkb_inp)\n",
    "    Vmax_ref = float(vmax_inp)\n",
    "    Ea = float(ea_inp)\n",
    "    T_ref = float(t_inp)\n",
    "    Km_ref = float(km_inp)\n",
    "    deltaH = float(deltah_inp)\n",
    "\n",
    "    s = np.linspace(0, 20, 500)\n",
    "    v = v0(s, t, ph, pKa, pKb, Vmax_ref, Ea, T_ref, Km_ref, deltaH)\n",
    "\n",
    "    fig = go.Figure()\n",
    "\n",
    "    fig.add_trace(go.Scatter(\n",
    "        x=s,\n",
    "        y=v,\n",
    "        mode='lines',\n",
    "    ))\n",
    "\n",
    "    fig.update_layout(\n",
    "        title=\"Michaelis\",\n",
    "        xaxis=dict(range=[0, 20]),\n",
    "        yaxis=dict(range=[0, 50]),\n",
    "        xaxis_title=\"Concentração do Substrato (mol/L)\",\n",
    "        yaxis_title=\"Velocidade da reação (mol/L.s)\"\n",
    "    )\n",
    "\n",
    "    return fig\n",
    "\n",
    "if __name__ == '__main__':\n",
    "    app.run(debug=True, port=8043)   "
   ]
  }
 ],
 "metadata": {
  "kernelspec": {
   "display_name": "Python 3",
   "language": "python",
   "name": "python3"
  },
  "language_info": {
   "codemirror_mode": {
    "name": "ipython",
    "version": 3
   },
   "file_extension": ".py",
   "mimetype": "text/x-python",
   "name": "python",
   "nbconvert_exporter": "python",
   "pygments_lexer": "ipython3",
   "version": "3.12.7"
  }
 },
 "nbformat": 4,
 "nbformat_minor": 5
}
