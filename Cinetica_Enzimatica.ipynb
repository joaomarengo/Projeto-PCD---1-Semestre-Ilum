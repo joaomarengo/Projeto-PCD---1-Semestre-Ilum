{
 "cells": [
  {
   "cell_type": "markdown",
   "id": "6163e123",
   "metadata": {},
   "source": [
    "# Gráfico Função de Michaelis"
   ]
  },
  {
   "cell_type": "code",
   "execution_count": 2,
   "id": "9d01943e",
   "metadata": {},
   "outputs": [
    {
     "data": {
      "application/vnd.plotly.v1+json": {
       "config": {
        "plotlyServerURL": "https://plot.ly"
       },
       "data": [
        {
         "mode": "lines",
         "type": "scatter",
         "x": {
          "bdata": "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",
          "dtype": "f8"
         },
         "y": {
          "bdata": "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",
          "dtype": "f8"
         }
        }
       ],
       "layout": {
        "template": {
         "data": {
          "bar": [
           {
            "error_x": {
             "color": "#2a3f5f"
            },
            "error_y": {
             "color": "#2a3f5f"
            },
            "marker": {
             "line": {
              "color": "#E5ECF6",
              "width": 0.5
             },
             "pattern": {
              "fillmode": "overlay",
              "size": 10,
              "solidity": 0.2
             }
            },
            "type": "bar"
           }
          ],
          "barpolar": [
           {
            "marker": {
             "line": {
              "color": "#E5ECF6",
              "width": 0.5
             },
             "pattern": {
              "fillmode": "overlay",
              "size": 10,
              "solidity": 0.2
             }
            },
            "type": "barpolar"
           }
          ],
          "carpet": [
           {
            "aaxis": {
             "endlinecolor": "#2a3f5f",
             "gridcolor": "white",
             "linecolor": "white",
             "minorgridcolor": "white",
             "startlinecolor": "#2a3f5f"
            },
            "baxis": {
             "endlinecolor": "#2a3f5f",
             "gridcolor": "white",
             "linecolor": "white",
             "minorgridcolor": "white",
             "startlinecolor": "#2a3f5f"
            },
            "type": "carpet"
           }
          ],
          "choropleth": [
           {
            "colorbar": {
             "outlinewidth": 0,
             "ticks": ""
            },
            "type": "choropleth"
           }
          ],
          "contour": [
           {
            "colorbar": {
             "outlinewidth": 0,
             "ticks": ""
            },
            "colorscale": [
             [
              0,
              "#0d0887"
             ],
             [
              0.1111111111111111,
              "#46039f"
             ],
             [
              0.2222222222222222,
              "#7201a8"
             ],
             [
              0.3333333333333333,
              "#9c179e"
             ],
             [
              0.4444444444444444,
              "#bd3786"
             ],
             [
              0.5555555555555556,
              "#d8576b"
             ],
             [
              0.6666666666666666,
              "#ed7953"
             ],
             [
              0.7777777777777778,
              "#fb9f3a"
             ],
             [
              0.8888888888888888,
              "#fdca26"
             ],
             [
              1,
              "#f0f921"
             ]
            ],
            "type": "contour"
           }
          ],
          "contourcarpet": [
           {
            "colorbar": {
             "outlinewidth": 0,
             "ticks": ""
            },
            "type": "contourcarpet"
           }
          ],
          "heatmap": [
           {
            "colorbar": {
             "outlinewidth": 0,
             "ticks": ""
            },
            "colorscale": [
             [
              0,
              "#0d0887"
             ],
             [
              0.1111111111111111,
              "#46039f"
             ],
             [
              0.2222222222222222,
              "#7201a8"
             ],
             [
              0.3333333333333333,
              "#9c179e"
             ],
             [
              0.4444444444444444,
              "#bd3786"
             ],
             [
              0.5555555555555556,
              "#d8576b"
             ],
             [
              0.6666666666666666,
              "#ed7953"
             ],
             [
              0.7777777777777778,
              "#fb9f3a"
             ],
             [
              0.8888888888888888,
              "#fdca26"
             ],
             [
              1,
              "#f0f921"
             ]
            ],
            "type": "heatmap"
           }
          ],
          "histogram": [
           {
            "marker": {
             "pattern": {
              "fillmode": "overlay",
              "size": 10,
              "solidity": 0.2
             }
            },
            "type": "histogram"
           }
          ],
          "histogram2d": [
           {
            "colorbar": {
             "outlinewidth": 0,
             "ticks": ""
            },
            "colorscale": [
             [
              0,
              "#0d0887"
             ],
             [
              0.1111111111111111,
              "#46039f"
             ],
             [
              0.2222222222222222,
              "#7201a8"
             ],
             [
              0.3333333333333333,
              "#9c179e"
             ],
             [
              0.4444444444444444,
              "#bd3786"
             ],
             [
              0.5555555555555556,
              "#d8576b"
             ],
             [
              0.6666666666666666,
              "#ed7953"
             ],
             [
              0.7777777777777778,
              "#fb9f3a"
             ],
             [
              0.8888888888888888,
              "#fdca26"
             ],
             [
              1,
              "#f0f921"
             ]
            ],
            "type": "histogram2d"
           }
          ],
          "histogram2dcontour": [
           {
            "colorbar": {
             "outlinewidth": 0,
             "ticks": ""
            },
            "colorscale": [
             [
              0,
              "#0d0887"
             ],
             [
              0.1111111111111111,
              "#46039f"
             ],
             [
              0.2222222222222222,
              "#7201a8"
             ],
             [
              0.3333333333333333,
              "#9c179e"
             ],
             [
              0.4444444444444444,
              "#bd3786"
             ],
             [
              0.5555555555555556,
              "#d8576b"
             ],
             [
              0.6666666666666666,
              "#ed7953"
             ],
             [
              0.7777777777777778,
              "#fb9f3a"
             ],
             [
              0.8888888888888888,
              "#fdca26"
             ],
             [
              1,
              "#f0f921"
             ]
            ],
            "type": "histogram2dcontour"
           }
          ],
          "mesh3d": [
           {
            "colorbar": {
             "outlinewidth": 0,
             "ticks": ""
            },
            "type": "mesh3d"
           }
          ],
          "parcoords": [
           {
            "line": {
             "colorbar": {
              "outlinewidth": 0,
              "ticks": ""
             }
            },
            "type": "parcoords"
           }
          ],
          "pie": [
           {
            "automargin": true,
            "type": "pie"
           }
          ],
          "scatter": [
           {
            "fillpattern": {
             "fillmode": "overlay",
             "size": 10,
             "solidity": 0.2
            },
            "type": "scatter"
           }
          ],
          "scatter3d": [
           {
            "line": {
             "colorbar": {
              "outlinewidth": 0,
              "ticks": ""
             }
            },
            "marker": {
             "colorbar": {
              "outlinewidth": 0,
              "ticks": ""
             }
            },
            "type": "scatter3d"
           }
          ],
          "scattercarpet": [
           {
            "marker": {
             "colorbar": {
              "outlinewidth": 0,
              "ticks": ""
             }
            },
            "type": "scattercarpet"
           }
          ],
          "scattergeo": [
           {
            "marker": {
             "colorbar": {
              "outlinewidth": 0,
              "ticks": ""
             }
            },
            "type": "scattergeo"
           }
          ],
          "scattergl": [
           {
            "marker": {
             "colorbar": {
              "outlinewidth": 0,
              "ticks": ""
             }
            },
            "type": "scattergl"
           }
          ],
          "scattermap": [
           {
            "marker": {
             "colorbar": {
              "outlinewidth": 0,
              "ticks": ""
             }
            },
            "type": "scattermap"
           }
          ],
          "scattermapbox": [
           {
            "marker": {
             "colorbar": {
              "outlinewidth": 0,
              "ticks": ""
             }
            },
            "type": "scattermapbox"
           }
          ],
          "scatterpolar": [
           {
            "marker": {
             "colorbar": {
              "outlinewidth": 0,
              "ticks": ""
             }
            },
            "type": "scatterpolar"
           }
          ],
          "scatterpolargl": [
           {
            "marker": {
             "colorbar": {
              "outlinewidth": 0,
              "ticks": ""
             }
            },
            "type": "scatterpolargl"
           }
          ],
          "scatterternary": [
           {
            "marker": {
             "colorbar": {
              "outlinewidth": 0,
              "ticks": ""
             }
            },
            "type": "scatterternary"
           }
          ],
          "surface": [
           {
            "colorbar": {
             "outlinewidth": 0,
             "ticks": ""
            },
            "colorscale": [
             [
              0,
              "#0d0887"
             ],
             [
              0.1111111111111111,
              "#46039f"
             ],
             [
              0.2222222222222222,
              "#7201a8"
             ],
             [
              0.3333333333333333,
              "#9c179e"
             ],
             [
              0.4444444444444444,
              "#bd3786"
             ],
             [
              0.5555555555555556,
              "#d8576b"
             ],
             [
              0.6666666666666666,
              "#ed7953"
             ],
             [
              0.7777777777777778,
              "#fb9f3a"
             ],
             [
              0.8888888888888888,
              "#fdca26"
             ],
             [
              1,
              "#f0f921"
             ]
            ],
            "type": "surface"
           }
          ],
          "table": [
           {
            "cells": {
             "fill": {
              "color": "#EBF0F8"
             },
             "line": {
              "color": "white"
             }
            },
            "header": {
             "fill": {
              "color": "#C8D4E3"
             },
             "line": {
              "color": "white"
             }
            },
            "type": "table"
           }
          ]
         },
         "layout": {
          "annotationdefaults": {
           "arrowcolor": "#2a3f5f",
           "arrowhead": 0,
           "arrowwidth": 1
          },
          "autotypenumbers": "strict",
          "coloraxis": {
           "colorbar": {
            "outlinewidth": 0,
            "ticks": ""
           }
          },
          "colorscale": {
           "diverging": [
            [
             0,
             "#8e0152"
            ],
            [
             0.1,
             "#c51b7d"
            ],
            [
             0.2,
             "#de77ae"
            ],
            [
             0.3,
             "#f1b6da"
            ],
            [
             0.4,
             "#fde0ef"
            ],
            [
             0.5,
             "#f7f7f7"
            ],
            [
             0.6,
             "#e6f5d0"
            ],
            [
             0.7,
             "#b8e186"
            ],
            [
             0.8,
             "#7fbc41"
            ],
            [
             0.9,
             "#4d9221"
            ],
            [
             1,
             "#276419"
            ]
           ],
           "sequential": [
            [
             0,
             "#0d0887"
            ],
            [
             0.1111111111111111,
             "#46039f"
            ],
            [
             0.2222222222222222,
             "#7201a8"
            ],
            [
             0.3333333333333333,
             "#9c179e"
            ],
            [
             0.4444444444444444,
             "#bd3786"
            ],
            [
             0.5555555555555556,
             "#d8576b"
            ],
            [
             0.6666666666666666,
             "#ed7953"
            ],
            [
             0.7777777777777778,
             "#fb9f3a"
            ],
            [
             0.8888888888888888,
             "#fdca26"
            ],
            [
             1,
             "#f0f921"
            ]
           ],
           "sequentialminus": [
            [
             0,
             "#0d0887"
            ],
            [
             0.1111111111111111,
             "#46039f"
            ],
            [
             0.2222222222222222,
             "#7201a8"
            ],
            [
             0.3333333333333333,
             "#9c179e"
            ],
            [
             0.4444444444444444,
             "#bd3786"
            ],
            [
             0.5555555555555556,
             "#d8576b"
            ],
            [
             0.6666666666666666,
             "#ed7953"
            ],
            [
             0.7777777777777778,
             "#fb9f3a"
            ],
            [
             0.8888888888888888,
             "#fdca26"
            ],
            [
             1,
             "#f0f921"
            ]
           ]
          },
          "colorway": [
           "#636efa",
           "#EF553B",
           "#00cc96",
           "#ab63fa",
           "#FFA15A",
           "#19d3f3",
           "#FF6692",
           "#B6E880",
           "#FF97FF",
           "#FECB52"
          ],
          "font": {
           "color": "#2a3f5f"
          },
          "geo": {
           "bgcolor": "white",
           "lakecolor": "white",
           "landcolor": "#E5ECF6",
           "showlakes": true,
           "showland": true,
           "subunitcolor": "white"
          },
          "hoverlabel": {
           "align": "left"
          },
          "hovermode": "closest",
          "mapbox": {
           "style": "light"
          },
          "paper_bgcolor": "white",
          "plot_bgcolor": "#E5ECF6",
          "polar": {
           "angularaxis": {
            "gridcolor": "white",
            "linecolor": "white",
            "ticks": ""
           },
           "bgcolor": "#E5ECF6",
           "radialaxis": {
            "gridcolor": "white",
            "linecolor": "white",
            "ticks": ""
           }
          },
          "scene": {
           "xaxis": {
            "backgroundcolor": "#E5ECF6",
            "gridcolor": "white",
            "gridwidth": 2,
            "linecolor": "white",
            "showbackground": true,
            "ticks": "",
            "zerolinecolor": "white"
           },
           "yaxis": {
            "backgroundcolor": "#E5ECF6",
            "gridcolor": "white",
            "gridwidth": 2,
            "linecolor": "white",
            "showbackground": true,
            "ticks": "",
            "zerolinecolor": "white"
           },
           "zaxis": {
            "backgroundcolor": "#E5ECF6",
            "gridcolor": "white",
            "gridwidth": 2,
            "linecolor": "white",
            "showbackground": true,
            "ticks": "",
            "zerolinecolor": "white"
           }
          },
          "shapedefaults": {
           "line": {
            "color": "#2a3f5f"
           }
          },
          "ternary": {
           "aaxis": {
            "gridcolor": "white",
            "linecolor": "white",
            "ticks": ""
           },
           "baxis": {
            "gridcolor": "white",
            "linecolor": "white",
            "ticks": ""
           },
           "bgcolor": "#E5ECF6",
           "caxis": {
            "gridcolor": "white",
            "linecolor": "white",
            "ticks": ""
           }
          },
          "title": {
           "x": 0.05
          },
          "xaxis": {
           "automargin": true,
           "gridcolor": "white",
           "linecolor": "white",
           "ticks": "",
           "title": {
            "standoff": 15
           },
           "zerolinecolor": "white",
           "zerolinewidth": 2
          },
          "yaxis": {
           "automargin": true,
           "gridcolor": "white",
           "linecolor": "white",
           "ticks": "",
           "title": {
            "standoff": 15
           },
           "zerolinecolor": "white",
           "zerolinewidth": 2
          }
         }
        },
        "title": {
         "text": "Função de Michaelis"
        },
        "xaxis": {
         "title": {
          "text": "Concentração do Substrato (mol/L)"
         }
        },
        "yaxis": {
         "title": {
          "text": "Velocidade da reação (mol/L.s)"
         }
        }
       }
      }
     },
     "metadata": {},
     "output_type": "display_data"
    }
   ],
   "source": [
    "import numpy as np\n",
    "import plotly.graph_objects as go\n",
    "\n",
    "#Função da velocidade\n",
    "def michaelis (conc_subst, km, vmax):\n",
    "    v_reaction = (vmax*conc_subst)/(km+conc_subst)\n",
    "    return v_reaction\n",
    "\n",
    "#Parametros\n",
    "km = 0.38\n",
    "vmax = 32\n",
    "\n",
    "#Concentração x Velocidade\n",
    "s = np.linspace(0, 20, 500)\n",
    "v = michaelis(s, km, vmax)\n",
    "\n",
    "#Cria figura\n",
    "fig = go.Figure()\n",
    "\n",
    "#Adiciona pontos/linhas\n",
    "fig.add_trace(go.Scatter(\n",
    "    x=s,\n",
    "    y=v,\n",
    "    mode='lines',\n",
    "))\n",
    "\n",
    "#Define visual\n",
    "fig.update_layout(\n",
    "    title=\"Função de Michaelis\",\n",
    "    xaxis_title=\"Concentração do Substrato (mol/L)\",\n",
    "    yaxis_title=\"Velocidade da reação (mol/L.s)\"\n",
    ")\n",
    "\n",
    "#Mostra figura\n",
    "fig.show()"
   ]
  },
  {
   "cell_type": "markdown",
   "id": "ee0aaccf",
   "metadata": {},
   "source": [
    "# Gráfico Função de Michaelis (Km e Vmáx ajustável)"
   ]
  },
  {
   "cell_type": "code",
   "execution_count": 3,
   "id": "a4ebc063",
   "metadata": {},
   "outputs": [
    {
     "data": {
      "text/html": [
       "\n",
       "        <iframe\n",
       "            width=\"100%\"\n",
       "            height=\"650\"\n",
       "            src=\"http://127.0.0.1:8030/\"\n",
       "            frameborder=\"0\"\n",
       "            allowfullscreen\n",
       "            \n",
       "        ></iframe>\n",
       "        "
      ],
      "text/plain": [
       "<IPython.lib.display.IFrame at 0x215b9dae0c0>"
      ]
     },
     "metadata": {},
     "output_type": "display_data"
    }
   ],
   "source": [
    "import numpy as np\n",
    "import plotly.graph_objects as go\n",
    "from dash import Dash, dcc, html, Input, Output\n",
    "\n",
    "#Função de velocidade\n",
    "def michaelis (conc_subst, km, vmax):\n",
    "    v_reaction = (vmax*conc_subst)/(km+conc_subst)\n",
    "    return v_reaction\n",
    "\n",
    "#Cria Figura (provisória)\n",
    "fig = go.Figure()\n",
    "\n",
    "#Cria app\n",
    "app = Dash(__name__)\n",
    "\n",
    "#Define visual do app\n",
    "app.layout = html.Div([\n",
    "    #Cria Slider Km\n",
    "    html.Label(\"Km:\", style={'color': 'white'}),\n",
    "    dcc.Slider(\n",
    "        id='km-slider',\n",
    "        min=0.1,\n",
    "        max=2.0,\n",
    "        step=0.1,\n",
    "        value=0.4\n",
    "    ),\n",
    "\n",
    "    html.Br(),\n",
    "\n",
    "    #Cria Slider Vmáx\n",
    "    html.Label(\"Vmax:\", style={'color': 'white'}),\n",
    "    dcc.Slider(\n",
    "        id='vmax-slider',\n",
    "        min=10,\n",
    "        max=50,\n",
    "        step=1,\n",
    "        value=32\n",
    "    ),\n",
    "\n",
    "    #Insere Gráfico\n",
    "    dcc.Graph(id='Velocidade(concentração)', figure=fig)\n",
    "])\n",
    "\n",
    "#Define Inputs e Outputs\n",
    "@app.callback(\n",
    "    Output('Velocidade(concentração)', 'figure'),\n",
    "    Input('km-slider', 'value'),\n",
    "    Input('vmax-slider', 'value')\n",
    ")\n",
    "\n",
    "#Atualiza o gráfico\n",
    "def mudar_imagem(km, vmax):\n",
    "\n",
    "    #Concentração x Velocidade\n",
    "    s = np.linspace(0, 20, 500)\n",
    "    v = michaelis(s, km, vmax)\n",
    "\n",
    "    #Cria figura\n",
    "    fig = go.Figure()\n",
    "\n",
    "    #Adiciona pontos/linhas\n",
    "    fig.add_trace(go.Scatter(\n",
    "        x=s,\n",
    "        y=v,\n",
    "        mode='lines',\n",
    "    ))\n",
    "\n",
    "    #Define visual\n",
    "    fig.update_layout(\n",
    "        title=f\"Função de Michaelis-Meten - km = {km}, Vmáx = {vmax}\",\n",
    "        xaxis=dict(range=[0, 20]),\n",
    "        yaxis=dict(range=[0, 50]),\n",
    "        xaxis_title=\"Concentração do Substrato (mol/L)\",\n",
    "        yaxis_title=\"Velocidade da reação (mol/L.s)\"\n",
    "    )\n",
    "\n",
    "    return fig\n",
    "\n",
    "#Roda app\n",
    "if __name__ == '__main__':\n",
    "    app.run(debug=True, port=8030)   "
   ]
  },
  {
   "cell_type": "markdown",
   "id": "f8ec5705",
   "metadata": {},
   "source": [
    "# Grafico em função de temperatura e pH"
   ]
  },
  {
   "cell_type": "code",
   "execution_count": 4,
   "id": "869c6939",
   "metadata": {},
   "outputs": [
    {
     "data": {
      "text/html": [
       "\n",
       "        <iframe\n",
       "            width=\"100%\"\n",
       "            height=\"650\"\n",
       "            src=\"http://127.0.0.1:8034/\"\n",
       "            frameborder=\"0\"\n",
       "            allowfullscreen\n",
       "            \n",
       "        ></iframe>\n",
       "        "
      ],
      "text/plain": [
       "<IPython.lib.display.IFrame at 0x215b87ce0c0>"
      ]
     },
     "metadata": {},
     "output_type": "display_data"
    }
   ],
   "source": [
    "import numpy as np\n",
    "import plotly.graph_objects as go\n",
    "from dash import Dash, dcc, html, Input, Output\n",
    "import math\n",
    "\n",
    "#Função de velocidade\n",
    "def v0(S, T, pH, pKa, pKb, Vmax_ref, Ea, T_ref, Km_ref, deltaH, T_opt, sigma):\n",
    "    term1 = 1 / (1 + 10**(pKa - pH) + 10**(pH - pKb))\n",
    "    exp1 = math.exp((-Ea*1000 / 8.314) * (1/(T+273) - 1/(T_ref+273)))\n",
    "    exp2 = math.exp((deltaH*1000 / 8.314) * (1/(T+273) - 1/(T_ref+273)))\n",
    "    exp3 = math.exp(-((T - T_opt) / sigma)**2)\n",
    "    \n",
    "    \n",
    "    numerador = Vmax_ref * exp1 * S\n",
    "    denominador = Km_ref * exp2 + S\n",
    "    \n",
    "    return term1 * exp3 * (numerador / denominador)\n",
    "\n",
    "#Cria Figura (provisória)\n",
    "fig = go.Figure()\n",
    "\n",
    "#Cria app\n",
    "app = Dash(__name__)\n",
    "\n",
    "#Define visual do app\n",
    "app.layout = html.Div([\n",
    "    #Cria Input pKa\n",
    "    html.Label(\"Constante de dissociação do grupo ácido (pKa)\", style={'color': 'white'}),\n",
    "    dcc.Input(\n",
    "        id='input_pka',\n",
    "        type='number',\n",
    "        placeholder=\"Insira o valor de pKa\",\n",
    "        value='6.5'),\n",
    "\n",
    "    html.Br(),\n",
    "\n",
    "    #Cria Input pKb\n",
    "    html.Label(\"Constante de dissociação do grupo básico (pKb)\", style={'color': 'white'}),\n",
    "    dcc.Input(\n",
    "        id='input_pkb',\n",
    "        type='number',\n",
    "        placeholder=\"Insira o valor de pKb\",\n",
    "        value='8'),\n",
    "\n",
    "    html.Br(),\n",
    "\n",
    "    #Cria Input T_ref\n",
    "    html.Label(\"Temperatura referêncial (T_ref)\", style={'color': 'white'}),\n",
    "    dcc.Input(\n",
    "        id='input_t_ref',\n",
    "        type='number',\n",
    "        placeholder=\"Insira o valor de T_ref\",\n",
    "        value='25'),\n",
    "\n",
    "    html.Br(),\n",
    "\n",
    "    #Cira Input Vmax_ref\n",
    "    html.Label(\"Velocidade máxima na temperatura referencial (Vmax_ref)\", style={'color': 'white'}),\n",
    "    dcc.Input(\n",
    "        id='input_vmax_ref',\n",
    "        type='number',\n",
    "        placeholder=\"Insira o valor de Vmax_ref\",\n",
    "        value='32'),\n",
    "\n",
    "    html.Br(),\n",
    "\n",
    "    #Cria Input Km_ref\n",
    "    html.Label(\"Constante de Michaelis na temperatura referencial (Km_ref)\", style={'color': 'white'}),\n",
    "    dcc.Input(\n",
    "        id='input_km_ref',\n",
    "        type='number',\n",
    "        placeholder=\"Insira o valor de Km_ref\",\n",
    "        value='0.4'),\n",
    "\n",
    "    html.Br(),\n",
    "\n",
    "    #Cria Input Ea\n",
    "    html.Label(\"Energia de ativação (Ea)\", style={'color': 'white'}),\n",
    "    dcc.Input(\n",
    "        id='input_ea',\n",
    "        type='number',\n",
    "        placeholder=\"Insira o valor de Ea\",\n",
    "        value='50'),\n",
    "\n",
    "    html.Br(),\n",
    "\n",
    "    #Cria Input ΔH\n",
    "    html.Label(\"Variação de Entalpia (ΔH)\", style={'color': 'white'}),\n",
    "    dcc.Input(\n",
    "        id='input_deltah',\n",
    "        type='number',\n",
    "        placeholder=\"Insira o valor de ΔH\",\n",
    "        value='-20'),\n",
    "\n",
    "    html.Br(),\n",
    "\n",
    "    #Cira Input T_opt\n",
    "    html.Label(\"Temperatura Ótima de funcionamento (T_opt)\", style={'color': 'white'}),\n",
    "    dcc.Input(\n",
    "        id='input_t_opt',\n",
    "        type='number',\n",
    "        placeholder=\"Insira o valor de T_opt\",\n",
    "        value='20'),\n",
    "    \n",
    "    html.Br(),\n",
    "\n",
    "    #Cria Input σ\n",
    "    html.Label(\"Sensibilidade térmica (σ))\", style={'color': 'white'}),\n",
    "    dcc.Input(\n",
    "        id='input_sigma',\n",
    "        type='number',\n",
    "        placeholder=\"Insira o valor de σ\",\n",
    "        value='45'),\n",
    "    \n",
    "    html.Br(),\n",
    "\n",
    "    #Cria Slider Temperatura\n",
    "    html.Label(\"Temperatura:\", style={'color': 'white'}),\n",
    "    dcc.Slider(\n",
    "        id='t-slider',\n",
    "        min=20,\n",
    "        max=70,\n",
    "        step=1,\n",
    "        value=25\n",
    "    ),\n",
    "\n",
    "    html.Br(),\n",
    "\n",
    "    #Cria Slider pH\n",
    "    html.Label(\"pH:\", style={'color': 'white'}),\n",
    "    dcc.Slider(\n",
    "        id='ph-slider',\n",
    "        min=5.5,\n",
    "        max=9.5,\n",
    "        step=0.1,\n",
    "        value=7\n",
    "    ),\n",
    "\n",
    "    #Insere Gráfico\n",
    "    dcc.Graph(id='Velocidade(concentração)', figure=fig)\n",
    "])\n",
    "\n",
    "#Define Inputs e Outputs\n",
    "@app.callback(\n",
    "    Output('Velocidade(concentração)', 'figure'),\n",
    "    Input('t-slider', 'value'),\n",
    "    Input('ph-slider', 'value'),\n",
    "    Input('input_pka', 'value'),\n",
    "    Input('input_pkb', 'value'),\n",
    "    Input('input_t_ref', 'value'),\n",
    "    Input('input_vmax_ref', 'value'),\n",
    "    Input('input_km_ref', 'value'),\n",
    "    Input('input_ea', 'value'),\n",
    "    Input('input_deltah', 'value'),\n",
    "    Input('input_t_opt', 'value'),\n",
    "    Input('input_sigma', 'value'),\n",
    "\n",
    ")\n",
    " #Atualiza Gráfico\n",
    "def mudar_imagem(t, ph, pka_inp, pkb_inp, t_inp, vmax_inp, km_inp, ea_inp, deltah_inp, t_opt_inp, sigma_inp):\n",
    "\n",
    "    #Recebe parâmetros\n",
    "    pKa = float(pka_inp)\n",
    "    pKb = float(pkb_inp)\n",
    "    Vmax_ref = float(vmax_inp)\n",
    "    Ea = float(ea_inp)\n",
    "    T_ref = float(t_inp)\n",
    "    Km_ref = float(km_inp)\n",
    "    deltaH = float(deltah_inp)\n",
    "    t_opt = float(t_opt_inp)\n",
    "    sigma = float(sigma_inp)\n",
    "\n",
    "    #Concentração x Velocidade\n",
    "    s = np.linspace(0, 20, 500)\n",
    "    v = v0(s, t, ph, pKa, pKb, Vmax_ref, Ea, T_ref, Km_ref, deltaH, t_opt, sigma)\n",
    "\n",
    "    #Cria Figura\n",
    "    fig = go.Figure()\n",
    "\n",
    "    #Adiciona pontos/linhas\n",
    "    fig.add_trace(go.Scatter(\n",
    "        x=s,\n",
    "        y=v,\n",
    "        mode='lines',\n",
    "    ))\n",
    "\n",
    "    #Define visual\n",
    "    fig.update_layout(\n",
    "        title=\"Michaelis\",\n",
    "        xaxis=dict(range=[0, 20]),\n",
    "        yaxis=dict(range=[0, 50]),\n",
    "        xaxis_title=\"Concentração do Substrato (mol/L)\",\n",
    "        yaxis_title=\"Velocidade da reação (mol/L.s)\"\n",
    "    )\n",
    "\n",
    "    return fig\n",
    "\n",
    "#Roda app\n",
    "if __name__ == '__main__':\n",
    "    app.run(debug=True, port=8034)   "
   ]
  },
  {
   "cell_type": "markdown",
   "id": "07b8af27",
   "metadata": {},
   "source": [
    "# Grafico em função de temperatura e pH"
   ]
  },
  {
   "cell_type": "code",
   "execution_count": 8,
   "id": "28575a11",
   "metadata": {},
   "outputs": [],
   "source": [
    "dados_enzimas = {\n",
    "    \"Glicólise\": {\n",
    "        \"Hexoquinase\": {\n",
    "            \"Vmax\": 10,\n",
    "            \"Km\": 0.05,\n",
    "            \"pKa\": 7.0,\n",
    "            \"pKb\": 9.0,\n",
    "            \"Delta_H\": -30,\n",
    "            \"Ea\": 50,\n",
    "            \"R\": 8.314,\n",
    "            \"T_ref\": 298,\n",
    "            \"T_opt\": 310,  \n",
    "            \"sigma\": 15.0   \n",
    "        },\n",
    "        \"PFK-1\": {\n",
    "            \"Vmax\": 20,\n",
    "            \"Km\": 0.1,\n",
    "            \"pKa\": 7.2,\n",
    "            \"pKb\": 9.1,\n",
    "            \"Delta_H\": -25,\n",
    "            \"Ea\": 45,\n",
    "            \"R\": 8.314,\n",
    "            \"T_ref\": 298,\n",
    "            \"T_opt\": 308,\n",
    "            \"sigma\": 12.0\n",
    "        }\n",
    "    },\n",
    "\n",
    "    \"Ciclo de Krebs\": {\n",
    "        \"Citrato sintase\": {\n",
    "            \"Vmax\": 5,\n",
    "            \"Km\": 0.015,\n",
    "            \"pKa\": 7.4,\n",
    "            \"pKb\": 9.0,\n",
    "            \"Delta_H\": -20,\n",
    "            \"Ea\": 40,\n",
    "            \"R\": 8.314,\n",
    "            \"T_ref\": 298,\n",
    "            \"T_opt\": 310,\n",
    "            \"sigma\": 18.0\n",
    "        },\n",
    "        \"Isocitrato desidrogenase\": {\n",
    "            \"Vmax\": 8,\n",
    "            \"Km\": 0.05,\n",
    "            \"pKa\": 7.5,\n",
    "            \"pKb\": 8.8,\n",
    "            \"Delta_H\": -15,\n",
    "            \"Ea\": 42,\n",
    "            \"R\": 8.314,\n",
    "            \"T_ref\": 298,\n",
    "            \"T_opt\": 309,\n",
    "            \"sigma\": 10.0\n",
    "        },\n",
    "        \"Alfa-cetoglutarato desidrogenase\": {\n",
    "            \"Vmax\": 7,\n",
    "            \"Km\": 0.02,\n",
    "            \"pKa\": 7.3,\n",
    "            \"pKb\": 9.0,\n",
    "            \"Delta_H\": -18,\n",
    "            \"Ea\": 43,\n",
    "            \"R\": 8.314,\n",
    "            \"T_ref\": 298,\n",
    "            \"T_opt\": 311,\n",
    "            \"sigma\": 14.0\n",
    "        }\n",
    "    },\n",
    "\n",
    "    \"Via das Pentoses Fosfato\": {\n",
    "        \"Glicose-6-fosfato desidrogenase\": {\n",
    "            \"Vmax\": 12,\n",
    "            \"Km\": 0.04,\n",
    "            \"pKa\": 7.1,\n",
    "            \"pKb\": 8.9,\n",
    "            \"Delta_H\": -22,\n",
    "            \"Ea\": 48,\n",
    "            \"R\": 8.314,\n",
    "            \"T_ref\": 298,\n",
    "            \"T_opt\": 310,\n",
    "            \"sigma\": 16.0\n",
    "        }\n",
    "    },\n",
    "\n",
    "    \"Beta-Oxidação\": {\n",
    "        \"Acil-CoA desidrogenase\": {\n",
    "            \"Vmax\": 6,\n",
    "            \"Km\": 0.03,\n",
    "            \"pKa\": 7.3,\n",
    "            \"pKb\": 8.7,\n",
    "            \"Delta_H\": -28,\n",
    "            \"Ea\": 50,\n",
    "            \"R\": 8.314,\n",
    "            \"T_ref\": 298,\n",
    "            \"T_opt\": 312,\n",
    "            \"sigma\": 20.0\n",
    "        }\n",
    "    },\n",
    "\n",
    "    \"Síntese de Colesterol\": {\n",
    "        \"HMG-CoA redutase\": {\n",
    "            \"Vmax\": 4,\n",
    "            \"Km\": 0.01,\n",
    "            \"pKa\": 7.2,\n",
    "            \"pKb\": 9.2,\n",
    "            \"Delta_H\": -17,\n",
    "            \"Ea\": 55,\n",
    "            \"R\": 8.314,\n",
    "            \"T_ref\": 298,\n",
    "            \"T_opt\": 307,\n",
    "            \"sigma\": 8.0\n",
    "        }\n",
    "    },\n",
    "\n",
    "    \"Ciclo da Ureia\": {\n",
    "        \"Carbamoil-fosfato sintetase I\": {\n",
    "            \"Vmax\": 3,\n",
    "            \"Km\": 0.02,\n",
    "            \"pKa\": 7.6,\n",
    "            \"pKb\": 9.0,\n",
    "            \"Delta_H\": -24,\n",
    "            \"Ea\": 47,\n",
    "            \"R\": 8.314,\n",
    "            \"T_ref\": 298,\n",
    "            \"T_opt\": 313,\n",
    "            \"sigma\": 13.0\n",
    "        }\n",
    "    }\n",
    "}"
   ]
  },
  {
   "cell_type": "code",
   "execution_count": 9,
   "id": "dfb2ee5c",
   "metadata": {},
   "outputs": [
    {
     "data": {
      "text/html": [
       "\n",
       "        <iframe\n",
       "            width=\"100%\"\n",
       "            height=\"650\"\n",
       "            src=\"http://127.0.0.1:8039/\"\n",
       "            frameborder=\"0\"\n",
       "            allowfullscreen\n",
       "            \n",
       "        ></iframe>\n",
       "        "
      ],
      "text/plain": [
       "<IPython.lib.display.IFrame at 0x215ba5a5ee0>"
      ]
     },
     "metadata": {},
     "output_type": "display_data"
    }
   ],
   "source": [
    "import numpy as np\n",
    "import plotly.graph_objects as go\n",
    "from dash import Dash, dcc, html, Input, Output\n",
    "import math\n",
    "\n",
    "#Função da Velocidade\n",
    "def v0(S, T, pH, pKa, pKb, Vmax_ref, Ea, T_ref, Km_ref, deltaH, T_opt, sigma):\n",
    "    term1 = 1 / (1 + 10**(pKa - pH) + 10**(pH - pKb))\n",
    "    exp1 = math.exp((-Ea*1000 / 8.314) * (1/(T+273) - 1/(T_ref)))\n",
    "    exp2 = math.exp((deltaH*1000 / 8.314) * (1/(T+273) - 1/(T_ref)))\n",
    "    exp3 = math.exp(-((T+273 - T_opt) / sigma)**2)\n",
    "    \n",
    "    \n",
    "    numerador = Vmax_ref * exp1 * S\n",
    "    denominador = Km_ref * exp2 + S\n",
    "    \n",
    "    return term1 * exp3 * (numerador / denominador)\n",
    "\n",
    "#Cria figura (provisória)\n",
    "fig = go.Figure()\n",
    "\n",
    "#Cria app\n",
    "app = Dash(__name__)\n",
    "\n",
    "#Define visual do app\n",
    "app.layout = html.Div([\n",
    "    #Cria Dropdown da Rota Metabólica\n",
    "    html.Label(\"Rota Metabólica\", style={'color': 'black'}),\n",
    "    dcc.Dropdown(\n",
    "        id='dropdown-rota',\n",
    "        options=[{'label': rota, 'value': rota} for rota in dados_enzimas],\n",
    "        value='Glicólise'\n",
    "    ),\n",
    "\n",
    "    #Cria Dropdown da Enzima\n",
    "    html.Label(\"Enzima\", style={'color': 'black'}),\n",
    "    dcc.Dropdown(\n",
    "        id='dropdown-enzima',\n",
    "    ),\n",
    "\n",
    "    #Cria Slider da Temperatura\n",
    "    html.Label(\"Temperatura:\", style={'color': 'black'}),\n",
    "    dcc.Slider(\n",
    "        id='t-slider',\n",
    "        min=20,\n",
    "        max=70,\n",
    "        step=1,\n",
    "        value=25\n",
    "    ),\n",
    "\n",
    "    html.Br(),\n",
    "\n",
    "    #Cria Slider do pH\n",
    "    html.Label(\"pH:\", style={'color': 'black'}),\n",
    "    dcc.Slider(\n",
    "        id='ph-slider',\n",
    "        min=5.5,\n",
    "        max=9.5,\n",
    "        step=0.1,\n",
    "        value=7\n",
    "    ),\n",
    "\n",
    "    #Insere gráfico\n",
    "    dcc.Graph(id='Velocidade(concentração)')\n",
    "])\n",
    "\n",
    "#Define Inputs e Outputs (Dropdown Rota Metabólica)\n",
    "@app.callback(\n",
    "    Output('dropdown-enzima', 'options'),\n",
    "    Input('dropdown-rota', 'value')\n",
    ")\n",
    "#Atualiza Enzimas\n",
    "def atualizar_opcoes_enzimas(rota):\n",
    "    enzimas = dados_enzimas.get(rota, {})\n",
    "    return [{'label': enzima, 'value': enzima} for enzima in enzimas]\n",
    "\n",
    "#Define Inputs e Outputs (Dropdown Enzimas)\n",
    "@app.callback(\n",
    "    Output('dropdown-enzima', 'value'),\n",
    "    Input('dropdown-enzima', 'options')\n",
    ")\n",
    "#Seleciona primeira enzima disponível\n",
    "def definir_enzima_padrao(opcoes):\n",
    "    if opcoes:\n",
    "        return opcoes[0]['value']\n",
    "    return None\n",
    "\n",
    "#Define Inputs e Outputs (Gráfico)\n",
    "@app.callback(\n",
    "    Output('Velocidade(concentração)', 'figure'),\n",
    "    Input('t-slider', 'value'),\n",
    "    Input('ph-slider', 'value'),\n",
    "    Input('dropdown-rota', 'value'),\n",
    "    Input('dropdown-enzima', 'value'),\n",
    ")\n",
    "#Atualiza Gráfico\n",
    "def mudar_imagem(t, ph, rota, enzima):\n",
    "\n",
    "    if None in [rota, enzima]:\n",
    "        return go.Figure()\n",
    "    \n",
    "    #Recebe parâmetros\n",
    "    pKa = dados_enzimas[rota][enzima]['pKa']\n",
    "    pKb = dados_enzimas[rota][enzima]['pKb']\n",
    "    Vmax_ref = dados_enzimas[rota][enzima]['Vmax']\n",
    "    Ea = dados_enzimas[rota][enzima]['Ea']\n",
    "    T_ref = dados_enzimas[rota][enzima]['T_ref']\n",
    "    Km_ref = dados_enzimas[rota][enzima]['Km']\n",
    "    deltaH = dados_enzimas[rota][enzima]['Delta_H']\n",
    "    t_opt = dados_enzimas[rota][enzima]['T_opt']\n",
    "    sigma = dados_enzimas[rota][enzima]['sigma']\n",
    "\n",
    "    #Concentração x Velocidade\n",
    "    s = np.linspace(0, 20, 500)\n",
    "    v = v0(s, t, ph, pKa, pKb, Vmax_ref, Ea, T_ref, Km_ref, deltaH, t_opt, sigma)\n",
    "\n",
    "    #Cria figura\n",
    "    fig = go.Figure()\n",
    "\n",
    "    #Adiciona pontos/linhas\n",
    "    fig.add_trace(go.Scatter(\n",
    "        x=s,\n",
    "        y=v,\n",
    "        mode='lines',\n",
    "    ))\n",
    "\n",
    "    #Define visual\n",
    "    fig.update_layout(\n",
    "        title=f\"Velocidade da reação -> {rota} - {enzima}\",\n",
    "        xaxis=dict(range=[0, 5]),\n",
    "        yaxis=dict(range=[0, 10]),\n",
    "        xaxis_title=\"Concentração do Substrato (mol/L)\",\n",
    "        yaxis_title=\"Velocidade da reação (mol/L.s)\"\n",
    "    )\n",
    "\n",
    "    return fig\n",
    "\n",
    "#Roda app\n",
    "if __name__ == '__main__':\n",
    "    app.run(debug=True, port=8039)   "
   ]
  },
  {
   "cell_type": "markdown",
   "id": "036148a3",
   "metadata": {},
   "source": [
    "# Gráfico 3D Temperatura e pH"
   ]
  },
  {
   "cell_type": "code",
   "execution_count": null,
   "id": "7f2e2d32",
   "metadata": {},
   "outputs": [],
   "source": [
    "import plotly.graph_objects as go\n",
    "from dash import Dash, dcc, html, Input, Output\n",
    "import numpy as np\n",
    "import math\n",
    "\n",
    "# Função de velocidade\n",
    "def velocidade_da_reacao(S, T, pH, pKa, pKb, Vmax_ref, Ea, T_ref, Km_ref, deltaH, T_opt, sigma):\n",
    "    T_K = T + 273.15\n",
    "    T_ref_K = T_ref + 273.15\n",
    "    T_opt_K = T_opt + 273.15\n",
    "\n",
    "    term1 = 1 / (1 + 10**(pKa - pH) + 10**(pH - pKb))\n",
    "    exp1 = math.exp((-Ea * 1000 / 8.314) * (1 / T_K - 1 / T_ref_K))\n",
    "    exp2 = math.exp((deltaH * 1000 / 8.314) * (1 / T_K - 1 / T_ref_K))\n",
    "    fator_f = math.exp(-((T_K - T_opt_K) / sigma)**2)\n",
    "\n",
    "    numerador = Vmax_ref * exp1 * fator_f * S\n",
    "    denominador = Km_ref * exp2 + S\n",
    "\n",
    "    return term1 * (numerador / denominador)\n",
    "\n",
    "#Cria app\n",
    "app = Dash(__name__)\n",
    "\n",
    "#Define estilo dos elementos\n",
    "label_style = {\n",
    "    'color': '#333333',\n",
    "    'fontWeight': 'bold',\n",
    "    'fontSize': '14px',\n",
    "    'marginBottom': '6px',\n",
    "    'display': 'block'\n",
    "}\n",
    "\n",
    "input_style = {\n",
    "    'width': '100%',\n",
    "    'padding': '8px 12px',\n",
    "    'border': '1px solid #ccc',\n",
    "    'borderRadius': '6px',\n",
    "    'fontSize': '14px',\n",
    "    'fontWeight': '400',\n",
    "    'outline': 'none',\n",
    "    'boxShadow': 'none',\n",
    "    'transition': 'border-color 0.3s ease'\n",
    "}\n",
    "\n",
    "container_style = {\n",
    "    'maxWidth': '1100px',\n",
    "    'margin': '40px auto',\n",
    "    'padding': '30px',\n",
    "    'backgroundColor': '#f5f5f7',\n",
    "    'borderRadius': '12px',\n",
    "    'fontFamily': 'Trebuchet MS, sans-serif',\n",
    "    'color': '#1d1d1f',\n",
    "    'boxShadow': '0 4px 12px rgba(0,0,0,0.05)'\n",
    "}\n",
    "\n",
    "title_style = {\n",
    "    'textAlign': 'center',\n",
    "    'color': '#1d1d1f',\n",
    "    'marginBottom': '40px',\n",
    "    'fontWeight': '600',\n",
    "    'fontSize': '28px'\n",
    "}\n",
    "\n",
    "#Define visual do app\n",
    "app.layout = html.Div([\n",
    "    html.H1(\"Simulação - Cinética Enzimática\", style=title_style),\n",
    "\n",
    "    html.Div([\n",
    "        html.Div([\n",
    "            html.Div([\n",
    "                html.Label(\"Concentração do Substrato (mol/L)\", style=label_style),\n",
    "                dcc.Input(id='input_s', type='number', value=10, step=0.1, style=input_style)\n",
    "            ], style={'marginBottom': '10px'}),\n",
    "            html.Div([\n",
    "                html.Label(\"Constante de Dissociação do Grupo Ácido (pKa)\", style=label_style),\n",
    "                dcc.Input(id='input_pka', type='number', value=6.5, step=0.1, style=input_style)\n",
    "            ], style={'marginBottom': '10px'}),\n",
    "            html.Div([\n",
    "                html.Label(\"Constante de Dissociação do Grupo Básico (pKb)\", style=label_style),\n",
    "                dcc.Input(id='input_pkb', type='number', value=8, step=0.1, style=input_style)\n",
    "            ], style={'marginBottom': '10px'}),\n",
    "            html.Div([\n",
    "                html.Label(\"Velocidade Máxima da Reação (mol/L.s)\", style=label_style),\n",
    "                dcc.Input(id='input_vmax_ref', type='number', value=32, style=input_style)\n",
    "            ], style={'marginBottom': '10px'}),\n",
    "            html.Div([\n",
    "                html.Label(\"Energia de Ativação da Reação (kJ/mol)\", style=label_style),\n",
    "                dcc.Input(id='input_ea', type='number', value=50, style=input_style)\n",
    "            ], style={'marginBottom': '10px'}),\n",
    "            html.Div([\n",
    "                html.Label(\"Temperatura de Referência (°C)\", style=label_style),\n",
    "                dcc.Input(id='input_tref', type='number', value=25, style=input_style)\n",
    "            ], style={'marginBottom': '10px'}),\n",
    "            html.Div([\n",
    "                html.Label(\"Constante de Michaelis-Menten (mol/L)\", style=label_style),\n",
    "                dcc.Input(id='input_km_ref', type='number', value=0.4, style=input_style)\n",
    "            ], style={'marginBottom': '10px'}),\n",
    "            html.Div([\n",
    "                html.Label(\"Variação de Entalpia (kJ/mol)\", style=label_style),\n",
    "                dcc.Input(id='input_deltah', type='number', value=-20, style=input_style)\n",
    "            ], style={'marginBottom': '10px'}),\n",
    "            html.Div([\n",
    "                html.Label(\"Temperatura Ótima em Condições Ideais (°C)\", style=label_style),\n",
    "                dcc.Input(id='input_topt', type='number', value=37, style=input_style)\n",
    "            ], style={'marginBottom': '10px'}),\n",
    "            html.Div([\n",
    "                html.Label(\"Sensibilidade Térmica (°C)\", style=label_style),\n",
    "                dcc.Input(id='input_sigma', type='number', value=10, style=input_style)\n",
    "            ], style={'marginBottom': '10px'}),\n",
    "        ], style={\n",
    "            'flex': '0 0 380px',\n",
    "            'paddingRight': '30px',\n",
    "            'overflowY': 'auto',\n",
    "            'maxHeight': '750px',\n",
    "            'boxSizing': 'border-box'\n",
    "        }),\n",
    "\n",
    "        html.Div([\n",
    "            dcc.Graph(id='graph-3d', style={'height': '700px'})\n",
    "        ], style={'flex': '1'})\n",
    "    ], style={'display': 'flex', 'flexDirection': 'row'})\n",
    "], style=container_style)\n",
    "\n",
    "#Define Inputs e Outputs\n",
    "@app.callback(\n",
    "    Output('graph-3d', 'figure'),\n",
    "    Input('input_s', 'value'),\n",
    "    Input('input_pka', 'value'),\n",
    "    Input('input_pkb', 'value'),\n",
    "    Input('input_vmax_ref', 'value'),\n",
    "    Input('input_ea', 'value'),\n",
    "    Input('input_tref', 'value'),\n",
    "    Input('input_km_ref', 'value'),\n",
    "    Input('input_deltah', 'value'),\n",
    "    Input('input_topt', 'value'),\n",
    "    Input('input_sigma', 'value')\n",
    ")\n",
    "\n",
    "#Atualiza gráfico\n",
    "def update_graph_3d(S, pKa, pKb, Vmax_ref, Ea, T_ref, Km_ref, deltaH, T_opt, sigma):\n",
    "\n",
    "    #Define Valores\n",
    "    T_vals = np.linspace(10, 50, 40)\n",
    "    pH_vals = np.linspace(4, 10, 40)\n",
    "    T_grid, pH_grid = np.meshgrid(T_vals, pH_vals)\n",
    "    v_grid = np.vectorize(lambda T, pH: velocidade_da_reacao(S, T, pH, pKa, pKb, Vmax_ref, Ea, T_ref, Km_ref, deltaH, T_opt, sigma))(T_grid, pH_grid)\n",
    "\n",
    "    #Cria gráfico\n",
    "    fig = go.Figure(data=[go.Surface(\n",
    "        z=v_grid,\n",
    "        x=T_vals,\n",
    "        y=pH_vals,\n",
    "        colorscale='Viridis',\n",
    "        colorbar=dict(title='Velocidade (mol/L·s)')\n",
    "    )])\n",
    "\n",
    "    #Define visuais do gráficos\n",
    "    fig.update_layout(\n",
    "        title=\"Velocidade da Reação Enzimática\",\n",
    "        title_x=0.5,\n",
    "        title_font=dict(\n",
    "            size=20,\n",
    "            color='#1d1d1f',\n",
    "            family='Arial, sans-serif',\n",
    "            weight='bold'\n",
    "        ),\n",
    "        scene=dict(\n",
    "            xaxis_title='Temperatura (°C)',\n",
    "            yaxis_title='pH',\n",
    "            zaxis_title='Velocidade (mol/L·s)',\n",
    "            xaxis=dict(showgrid=True, gridcolor='#e1e1e1', zerolinecolor='#e1e1e1', linecolor='#ccc'),\n",
    "            yaxis=dict(showgrid=True, gridcolor='#e1e1e1', zerolinecolor='#e1e1e1', linecolor='#ccc'),\n",
    "            zaxis=dict(showgrid=True, gridcolor='#e1e1e1', zerolinecolor='#e1e1e1', linecolor='#ccc'),\n",
    "            xaxis_range=[10, 50],\n",
    "            yaxis_range=[4, 10],\n",
    "        ),\n",
    "        paper_bgcolor='white',\n",
    "        plot_bgcolor='white',\n",
    "        font=dict(color='#1d1d1f')\n",
    "    )\n",
    "\n",
    "    return fig\n",
    "\n",
    "#Roda app\n",
    "if __name__ == '__main__':\n",
    "    app.run(debug=True, port=8080)"
   ]
  },
  {
   "cell_type": "markdown",
   "id": "c608ebd7",
   "metadata": {},
   "source": [
    "# Concentração em função do tempo"
   ]
  },
  {
   "cell_type": "code",
   "execution_count": 5,
   "id": "7ef8e241",
   "metadata": {},
   "outputs": [
    {
     "data": {
      "text/html": [
       "\n",
       "        <iframe\n",
       "            width=\"100%\"\n",
       "            height=\"650\"\n",
       "            src=\"http://127.0.0.1:8038/\"\n",
       "            frameborder=\"0\"\n",
       "            allowfullscreen\n",
       "            \n",
       "        ></iframe>\n",
       "        "
      ],
      "text/plain": [
       "<IPython.lib.display.IFrame at 0x215ba0b8860>"
      ]
     },
     "metadata": {},
     "output_type": "display_data"
    }
   ],
   "source": [
    "import numpy as np\n",
    "import plotly.graph_objects as go\n",
    "from dash import Dash, dcc, html, Input, Output\n",
    "\n",
    "#Função da Velocidade\n",
    "def michaelis (conc_subst, km, vmax):\n",
    "    v_reaction = (vmax*conc_subst)/(km+conc_subst)\n",
    "    return v_reaction\n",
    "\n",
    "#Função da Concentração\n",
    "def concentracao(t, km, vmax, s_i):\n",
    "    s_f = s_i\n",
    "    dt = 0.00001\n",
    "    tempo = 0\n",
    "    while tempo < t:\n",
    "        s_f = s_f - michaelis(s_f, km, vmax)*(dt)\n",
    "        tempo += dt\n",
    "    return max(s_f, 0)\n",
    "\n",
    "#Cria Figura (provisória)\n",
    "fig = go.Figure()\n",
    "\n",
    "#Cria app\n",
    "app = Dash(__name__)\n",
    "\n",
    "#Define visual do app\n",
    "app.layout = html.Div([\n",
    "    #Cria Slider da Concentração Inicial\n",
    "    html.Label(\"s0:\", style={'color': 'white'}),\n",
    "    dcc.Slider(\n",
    "        id='s0-slider',\n",
    "        min=0.1,\n",
    "        max=2.0,\n",
    "        step=0.1,\n",
    "        value=1\n",
    "    ),\n",
    "\n",
    "    #Cria Slider do Km\n",
    "    html.Label(\"Km:\", style={'color': 'white'}),\n",
    "    dcc.Slider(\n",
    "        id='km-slider',\n",
    "        min=0.1,\n",
    "        max=2.0,\n",
    "        step=0.1,\n",
    "        value=0.4\n",
    "    ),\n",
    "\n",
    "    html.Br(),\n",
    "\n",
    "    #Cria Slider do Vmáx\n",
    "    html.Label(\"Vmax:\", style={'color': 'white'}),\n",
    "    dcc.Slider(\n",
    "        id='vmax-slider',\n",
    "        min=10,\n",
    "        max=50,\n",
    "        step=1,\n",
    "        value=32\n",
    "    ),\n",
    "\n",
    "    #Insere Gráfico\n",
    "    dcc.Graph(id='Velocidade(concentração)', figure=fig)\n",
    "])\n",
    "\n",
    "#Define Inputs e Outputs\n",
    "@app.callback(\n",
    "    Output('Velocidade(concentração)', 'figure'),\n",
    "    Input('s0-slider', 'value'),\n",
    "    Input('km-slider', 'value'),\n",
    "    Input('vmax-slider', 'value')\n",
    ")\n",
    "\n",
    "#Altera Gráfico\n",
    "def mudar_imagem(s0, km, vmax):\n",
    "\n",
    "    #Tempo x Concentração\n",
    "    t = np.linspace(0, 0.2, 500)\n",
    "    s = np.array([])\n",
    "    for tempo in t:\n",
    "        s = np.append(s, [concentracao(tempo, km, vmax, s0)])\n",
    "\n",
    "    #Cria figura\n",
    "    fig = go.Figure()\n",
    "\n",
    "    #Adiciona pontos/linhas\n",
    "    fig.add_trace(go.Scatter(\n",
    "        x=t,\n",
    "        y=s,\n",
    "        mode='lines',\n",
    "    ))\n",
    "\n",
    "    #Define visual do gráfico\n",
    "    fig.update_layout(\n",
    "        title=\"Concentração em função do tempo\",\n",
    "        xaxis=dict(range=[0, 0.2]),\n",
    "        yaxis=dict(range=[0, 2]),\n",
    "        xaxis_title=\"Concentração do Substrato (mol/L)\",\n",
    "        yaxis_title=\"Velocidade da reação (mol/L.s)\"\n",
    "    )\n",
    "\n",
    "\n",
    "    return fig\n",
    "\n",
    "#Roda app\n",
    "if __name__ == '__main__':\n",
    "    app.run(debug=True, port=8038)   "
   ]
  },
  {
   "cell_type": "markdown",
   "id": "c95386ad",
   "metadata": {},
   "source": [
    "# Concentração em função do tempo - Reação em cadeia"
   ]
  },
  {
   "cell_type": "code",
   "execution_count": null,
   "id": "855aa404",
   "metadata": {},
   "outputs": [],
   "source": [
    "import numpy as np\n",
    "from dash import Dash, dcc, html, Input, Output\n",
    "import plotly.graph_objects as go\n",
    "\n",
    "#Função de Velocidade\n",
    "def michaelis (conc_subst, km, vmax):\n",
    "    v_reaction = (vmax*conc_subst)/(km+conc_subst)\n",
    "    return v_reaction\n",
    "\n",
    "#Função de Concentração\n",
    "def concentracao(t, km, vmax, s_i):\n",
    "    s_f = s_i\n",
    "    dt = 0.00001\n",
    "    tempo = 0\n",
    "    while tempo < t:\n",
    "        s_f = s_f - michaelis(s_f, km, vmax)*(dt)\n",
    "        tempo += dt\n",
    "    return max(s_f, 0)\n",
    "\n",
    "#Parâmetros\n",
    "s0 = 1\n",
    "\n",
    "#Cria figura (provisória)\n",
    "fig = go.Figure()\n",
    "\n",
    "#Cria app\n",
    "app = Dash(__name__)\n",
    "\n",
    "#Define visual do app\n",
    "app.layout = html.Div([\n",
    "    html.Div([\n",
    "        html.Div([\n",
    "            # Inputs grupo 1\n",
    "            html.Div([\n",
    "                #Cria Slider Km\n",
    "                html.Label(\"Reação 1 - Km:\",\n",
    "                           style={'color': 'white', 'margin-right': '10px'}),\n",
    "                dcc.Input(id='km-input1',\n",
    "                          type='number',\n",
    "                          value=0.4,\n",
    "                          style={'width': '80px', 'margin-right': '20px'}),\n",
    "                #Cria Slider Vmáx\n",
    "                html.Label(\"Vmáx:\",\n",
    "                           style={'color': 'white', 'margin-right': '10px'}),\n",
    "                dcc.Input(id='vmax-input1',\n",
    "                          type='number',\n",
    "                          value=32,\n",
    "                          style={'width': '80px'})\n",
    "            ], \n",
    "            #Alinha Inputs grupo 1\n",
    "            style={'display': 'flex', 'align-items': 'center', 'margin-bottom': '20px'}),\n",
    "            \n",
    "            # Inputs grupo 2\n",
    "            html.Div([\n",
    "                #Cria Slider Km\n",
    "                html.Label(\"Reação 2 - Km:\",\n",
    "                           style={'color': 'white', 'margin-right': '10px'}),\n",
    "                dcc.Input(id='km-input2',\n",
    "                          type='number',\n",
    "                          value=0.7,\n",
    "                          style={'width': '80px', 'margin-right': '20px'}),\n",
    "                #Cria Slider Vmáx\n",
    "                html.Label(\"Vmáx:\",\n",
    "                           style={'color': 'white', 'margin-right': '10px'}),\n",
    "                dcc.Input(id='vmax-input2',\n",
    "                          type='number',\n",
    "                          value=26,\n",
    "                          style={'width': '80px'})\n",
    "            ],\n",
    "            #Alinha Inputs grupo 2\n",
    "            style={'display': 'flex', 'align-items': 'center', 'margin-bottom': '20px'}),\n",
    "            \n",
    "            # Inputs grupo 3\n",
    "            html.Div([\n",
    "                #Cria Slider Km\n",
    "                html.Label(\"Reação 3 - Km:\", \n",
    "                           style={'color': 'white', 'margin-right': '10px'}\n",
    "                           ),\n",
    "                dcc.Input(id='km-input3',\n",
    "                          type='number',\n",
    "                          value=0.5,\n",
    "                          style={'width': '80px', 'margin-right': '20px'}),\n",
    "                #Cria Slider Vmáx\n",
    "                html.Label(\"Vmáx:\",\n",
    "                           style={'color': 'white', 'margin-right': '10px'}),\n",
    "                dcc.Input(id='vmax-input3',\n",
    "                          type='number',\n",
    "                          value=40, \n",
    "                          style={'width': '80px'})\n",
    "            ], \n",
    "            #Alinha Inputs grupo 3\n",
    "            style={'display': 'flex', 'align-items': 'center'})\n",
    "        ], \n",
    "        style={'display': 'flex', 'flex-direction': 'column'}),\n",
    "        \n",
    "        # Gráfico\n",
    "        dcc.Graph(id='Velocidade(concentração)', figure=fig)\n",
    "    ], style={'padding': '20px'})\n",
    "])\n",
    "\n",
    "#Define Inputs e Outputs\n",
    "@app.callback(\n",
    "    Output('Velocidade(concentração)', 'figure'),\n",
    "    Input('km-input1', 'value'),\n",
    "    Input('vmax-input1', 'value'),\n",
    "    Input('km-input2', 'value'),\n",
    "    Input('vmax-input2', 'value'),\n",
    "    Input('km-input3', 'value'),\n",
    "    Input('vmax-input3', 'value'),\n",
    ")\n",
    "\n",
    "#Altera Gráfico\n",
    "def mudar_imagem(km1, vmax1, km2, vmax2, km3, vmax3):\n",
    "\n",
    "    #Tempo x Concentrações (Vazios)\n",
    "    t = np.linspace(0, 0.5, 250)\n",
    "    s1 = np.array([])  # Substrato inicial\n",
    "    s2 = np.array([])  # Produto 1\n",
    "    s3 = np.array([])  # Produto 2\n",
    "    s4 = np.array([])  # Produto final\n",
    "    \n",
    "    #Concentrações iniciais\n",
    "    current_s1 = s0\n",
    "    current_s2 = 0\n",
    "    current_s3 = 0\n",
    "    current_s4 = 0\n",
    "    \n",
    "    #Passo de tempo\n",
    "    dt = t[1] - t[0]\n",
    "    \n",
    "    for tempo in t:\n",
    "        #Adiciona concentração inicial\n",
    "        if tempo == 0:\n",
    "            s1 = np.append(s1, current_s1)\n",
    "            s2 = np.append(s2, current_s2)\n",
    "            s3 = np.append(s3, current_s3)\n",
    "            s4 = np.append(s4, current_s4)\n",
    "        #Adiciona demais concentrações\n",
    "        else:\n",
    "            #Calcula as taxas de reação\n",
    "            v1 = michaelis(current_s1, km1, vmax1)\n",
    "            v2 = michaelis(current_s2, km2, vmax2)\n",
    "            v3 = michaelis(current_s3, km3, vmax3)\n",
    "            \n",
    "            #Calcula variação de concentração\n",
    "            delta_s1 = -v1 * dt\n",
    "            delta_s2 = (v1 - v2) * dt\n",
    "            delta_s3 = (v2 - v3) * dt\n",
    "            delta_s4 = v3 * dt\n",
    "            \n",
    "            #Calcula concentração final\n",
    "            current_s1 = max(0, current_s1 + delta_s1)\n",
    "            current_s2 = max(0, current_s2 + delta_s2)\n",
    "            current_s3 = max(0, current_s3 + delta_s3)\n",
    "            current_s4 = max(0, current_s4 + delta_s4)\n",
    "            \n",
    "            #Adiciona Concentração\n",
    "            s1 = np.append(s1, current_s1)\n",
    "            s2 = np.append(s2, current_s2)\n",
    "            s3 = np.append(s3, current_s3)\n",
    "            s4 = np.append(s4, current_s4)\n",
    "     \n",
    "    #Cria figura \n",
    "    fig = go.Figure()\n",
    "\n",
    "    #Adiciona pontos/linhas substância 1\n",
    "    fig.add_trace(go.Scatter(\n",
    "        x=t,\n",
    "        y=s1,\n",
    "        mode='lines',\n",
    "        name= 'composto 1',\n",
    "    ))\n",
    "    #Adiciona pontos/linhas substância 2\n",
    "    fig.add_trace(go.Scatter(\n",
    "        x=t,\n",
    "        y=s2,\n",
    "        mode='lines',\n",
    "        name= 'composto 2',\n",
    "    ))\n",
    "    #Adiciona pontos/linhas substância 3\n",
    "    fig.add_trace(go.Scatter(\n",
    "        x=t,\n",
    "        y=s3,\n",
    "        mode='lines',\n",
    "        name= 'composto 3',\n",
    "    ))\n",
    "    #Adiciona pontos/linhas substância 4\n",
    "    fig.add_trace(go.Scatter(\n",
    "        x=t,\n",
    "        y=s4,\n",
    "        mode='lines',\n",
    "        name= 'composto 4',\n",
    "    ))\n",
    "\n",
    "    #Define visual\n",
    "    fig.update_layout(\n",
    "        title=\"Concentração de Substrato em Cadeia (Michaelis-Menten)\",\n",
    "        xaxis_title=\"Tempo (s)\",\n",
    "        yaxis_title=\"Concentração do Substrato (mol/L)\",\n",
    "        yaxis_range=[0, s0],\n",
    "        xaxis_range=[0, 0.2]\n",
    "    )\n",
    "    return fig\n",
    "\n",
    "#Roda app\n",
    "if __name__ == '__main__':\n",
    "    app.run(debug=True, port=8035)\n"
   ]
  }
 ],
 "metadata": {
  "kernelspec": {
   "display_name": "Python 3",
   "language": "python",
   "name": "python3"
  },
  "language_info": {
   "codemirror_mode": {
    "name": "ipython",
    "version": 3
   },
   "file_extension": ".py",
   "mimetype": "text/x-python",
   "name": "python",
   "nbconvert_exporter": "python",
   "pygments_lexer": "ipython3",
   "version": "3.12.7"
  }
 },
 "nbformat": 4,
 "nbformat_minor": 5
}
